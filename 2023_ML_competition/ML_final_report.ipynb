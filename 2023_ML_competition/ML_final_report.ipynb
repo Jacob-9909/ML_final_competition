{
 "cells": [
  {
   "cell_type": "markdown",
   "id": "78d74c20",
   "metadata": {
    "papermill": {
     "duration": 0.016721,
     "end_time": "2023-12-20T10:37:13.620968",
     "exception": false,
     "start_time": "2023-12-20T10:37:13.604247",
     "status": "completed"
    },
    "tags": []
   },
   "source": [
    "### <font color='tomato'><font color=\"#CC3D3D\"><p>\n",
    "# Baseline Code (v1.0)"
   ]
  },
  {
   "cell_type": "markdown",
   "id": "31451b03",
   "metadata": {
    "papermill": {
     "duration": 0.016083,
     "end_time": "2023-12-20T10:37:13.653673",
     "exception": false,
     "start_time": "2023-12-20T10:37:13.637590",
     "status": "completed"
    },
    "tags": []
   },
   "source": [
    "- **문제**   \n",
    "*\"각 패널에게 어떤 온라인 설문조사를 요청해야 응답할까?\"*    \n",
    "**KML Challenge 2023F**에서는 이 문제를 가장 잘 해결할 수 있는 예측 모델을 개발하는 것이 목적\n",
    "- **평가척도**   \n",
    "정확도(Accuracy)\n",
    "- **데이터**   \n",
    "   - train.csv(학습데이터), test.csv(평가테이터)\n",
    "   - 각 데이터 포인트는 패널 정보, 설문정보, 응답여부(STATUS)로 구성"
   ]
  },
  {
   "cell_type": "markdown",
   "id": "464d0fb7",
   "metadata": {
    "papermill": {
     "duration": 0.015957,
     "end_time": "2023-12-20T10:37:13.686026",
     "exception": false,
     "start_time": "2023-12-20T10:37:13.670069",
     "status": "completed"
    },
    "tags": []
   },
   "source": [
    "### Imports"
   ]
  },
  {
   "cell_type": "code",
   "execution_count": 1,
   "id": "5dee8623",
   "metadata": {
    "execution": {
     "iopub.execute_input": "2023-12-20T10:37:13.720965Z",
     "iopub.status.busy": "2023-12-20T10:37:13.720218Z",
     "iopub.status.idle": "2023-12-20T10:37:20.694670Z",
     "shell.execute_reply": "2023-12-20T10:37:20.693619Z"
    },
    "papermill": {
     "duration": 6.995311,
     "end_time": "2023-12-20T10:37:20.697657",
     "exception": false,
     "start_time": "2023-12-20T10:37:13.702346",
     "status": "completed"
    },
    "tags": []
   },
   "outputs": [],
   "source": [
    "import os\n",
    "import random\n",
    "import pickle\n",
    "import gc\n",
    "import seaborn as sns\n",
    "import matplotlib.pylab as plt\n",
    "from matplotlib import font_manager, rc\n",
    "%matplotlib inline\n",
    "import warnings\n",
    "warnings.filterwarnings(\"ignore\")\n",
    "import pandas as pd\n",
    "import numpy as np\n",
    "from sklearn.compose import ColumnTransformer, make_column_transformer\n",
    "from sklearn.base import BaseEstimator, TransformerMixin\n",
    "from sklearn.impute import SimpleImputer\n",
    "from sklearn.experimental import enable_iterative_imputer\n",
    "from sklearn.preprocessing import StandardScaler, PowerTransformer, OrdinalEncoder, OneHotEncoder, FunctionTransformer\n",
    "from category_encoders import TargetEncoder, BinaryEncoder\n",
    "from sklearn.decomposition import PCA\n",
    "from sklearn.feature_selection import SelectKBest, SelectPercentile\n",
    "from sklearn.feature_extraction.text import CountVectorizer\n",
    "from sklearn.linear_model import LogisticRegression, LinearRegression, Ridge, Lasso\n",
    "from sklearn.model_selection import train_test_split, cross_val_score, cross_validate, GridSearchCV, KFold, cross_val_predict\n",
    "from sklearn.metrics import roc_auc_score, mean_squared_error, make_scorer, accuracy_score\n",
    "from sklearn import set_config\n",
    "from catboost import CatBoostRegressor, CatBoostClassifier\n",
    "from sklearn.pipeline import Pipeline, FeatureUnion, make_pipeline\n",
    "from sklearn.ensemble import RandomForestClassifier, StackingClassifier, StackingRegressor, GradientBoostingRegressor,VotingClassifier, VotingRegressor, StackingRegressor, HistGradientBoostingRegressor, GradientBoostingClassifier\n",
    "from lightgbm import LGBMRegressor, LGBMClassifier\n",
    "from sklearn.svm import SVC, SVR\n",
    "from xgboost import XGBRegressor,XGBClassifier \n",
    "from sklearn.neural_network import MLPClassifier\n",
    "from sklearn.neighbors import KNeighborsClassifier\n",
    "from sklearn.naive_bayes import GaussianNB\n",
    "from sklearn.tree import DecisionTreeClassifier\n",
    "\n",
    "import xgboost as xgb\n",
    "import lightgbm as lgb\n",
    "import category_encoders as ce\n",
    "import re\n",
    "import optuna\n",
    "import math"
   ]
  },
  {
   "cell_type": "markdown",
   "id": "14a95f29",
   "metadata": {
    "papermill": {
     "duration": 0.018087,
     "end_time": "2023-12-20T10:37:20.733167",
     "exception": false,
     "start_time": "2023-12-20T10:37:20.715080",
     "status": "completed"
    },
    "tags": []
   },
   "source": [
    "### Data Loading"
   ]
  },
  {
   "cell_type": "code",
   "execution_count": 2,
   "id": "0f0f6576",
   "metadata": {
    "execution": {
     "iopub.execute_input": "2023-12-20T10:37:20.768590Z",
     "iopub.status.busy": "2023-12-20T10:37:20.768129Z",
     "iopub.status.idle": "2023-12-20T10:37:38.400101Z",
     "shell.execute_reply": "2023-12-20T10:37:38.398860Z"
    },
    "papermill": {
     "duration": 17.65349,
     "end_time": "2023-12-20T10:37:38.403086",
     "exception": false,
     "start_time": "2023-12-20T10:37:20.749596",
     "status": "completed"
    },
    "scrolled": true,
    "tags": []
   },
   "outputs": [],
   "source": [
    "# train = pd.read_csv('/kaggle/input/kml-challenge-2023f/train.csv', encoding='cp949')\n",
    "# test = pd.read_csv('/kaggle/input/kml-challenge-2023f/test.csv', encoding='cp949')"
   ]
  },
  {
   "cell_type": "code",
   "execution_count": 3,
   "id": "17c6510a",
   "metadata": {
    "execution": {
     "iopub.execute_input": "2023-12-20T10:37:38.438387Z",
     "iopub.status.busy": "2023-12-20T10:37:38.437948Z",
     "iopub.status.idle": "2023-12-20T10:37:38.442890Z",
     "shell.execute_reply": "2023-12-20T10:37:38.441617Z"
    },
    "papermill": {
     "duration": 0.025499,
     "end_time": "2023-12-20T10:37:38.445285",
     "exception": false,
     "start_time": "2023-12-20T10:37:38.419786",
     "status": "completed"
    },
    "tags": []
   },
   "outputs": [],
   "source": [
    "train = pd.read_csv('train.csv', encoding='cp949')\n",
    "test = pd.read_csv('test.csv', encoding='cp949')"
   ]
  },
  {
   "cell_type": "markdown",
   "id": "647b6e63",
   "metadata": {
    "papermill": {
     "duration": 0.016157,
     "end_time": "2023-12-20T10:37:38.478524",
     "exception": false,
     "start_time": "2023-12-20T10:37:38.462367",
     "status": "completed"
    },
    "tags": []
   },
   "source": [
    "### 데이터 설명\n",
    "- **패널(Panel) 데이터**\n",
    "  - userID: 패널 ID\n",
    "  - BIRTH: 생일(연도)\n",
    "  - GENDER: 1(남자) 2(여자)\n",
    "  - REGION: 거주지역\n",
    "  - TYPE: 패널 구분\n",
    "  - SQ1 ~ DQ7: 패널 가입 시 설문한 데이터로 각 필드에 대해서는 [상세설명](https://docs.google.com/spreadsheets/d/1pY6MYTSkyHrGLmMTU8tX_xlD8fPut6Ob/edit?usp=sharing&ouid=107121563618260277687&rtpof=true&sd=true) 참조\n",
    "- **설문(Survey) 데이터**\n",
    "  - surveyID: 설문 ID\n",
    "  - TITLE: 설문 제목\n",
    "  - IR: 난이도(응답가능성, 100이 최고)\n",
    "  - LOI: 설문하는데 걸리는 시간 (분단위)\n",
    "  - CATEGORIES: 설문 분류\n",
    "  - CPI: 패널 응답 리워드 포인트(1P~)\n",
    "- **응답(Response) 데이터**\n",
    "  - STATUS: 응답여부 (Target)\n",
    "  - (test 데이터의) ID: submission을 식별하기 위한 ID로 사용"
   ]
  },
  {
   "cell_type": "markdown",
   "id": "b3e2be8d",
   "metadata": {
    "papermill": {
     "duration": 0.016963,
     "end_time": "2023-12-20T10:37:38.512016",
     "exception": false,
     "start_time": "2023-12-20T10:37:38.495053",
     "status": "completed"
    },
    "tags": []
   },
   "source": [
    "### Data Preprocessing"
   ]
  },
  {
   "cell_type": "code",
   "execution_count": 4,
   "id": "7867c7f5",
   "metadata": {
    "execution": {
     "iopub.execute_input": "2023-12-20T10:37:38.547815Z",
     "iopub.status.busy": "2023-12-20T10:37:38.547365Z",
     "iopub.status.idle": "2023-12-20T10:37:42.864459Z",
     "shell.execute_reply": "2023-12-20T10:37:42.863033Z"
    },
    "papermill": {
     "duration": 4.338453,
     "end_time": "2023-12-20T10:37:42.867312",
     "exception": false,
     "start_time": "2023-12-20T10:37:38.528859",
     "status": "completed"
    },
    "tags": []
   },
   "outputs": [
    {
     "name": "stdout",
     "output_type": "stream",
     "text": [
      "userID \t 15155 \t 0.0\n",
      "surveyID \t 1293 \t 0.0\n",
      "BIRTH \t 76 \t 0.0\n",
      "GENDER \t 2 \t 0.0\n",
      "REGION \t 17 \t 0.0\n",
      "TYPE \t 3 \t 0.0\n",
      "SQ1 \t 2 \t 0.0009770785964481042\n",
      "SQ2 \t 82 \t 0.0014293615190806859\n",
      "SQ3 \t 47 \t 0.09023044306520002\n",
      "SQ4 \t 52 \t 0.09058931973207153\n",
      "SQ5 \t 273 \t 0.14450930989983407\n",
      "SQ6 \t 30 \t 0.14490751551649972\n",
      "SQ7 \t 1234 \t 0.1802556381736619\n",
      "SQ8 \t 1774 \t 0.1831610643397038\n",
      "A1 \t 2768 \t 0.2083279051189086\n",
      "B1 \t 131 \t 0.21447796964296686\n",
      "B2 \t 120 \t 0.2426792847047256\n",
      "B3 \t 110 \t 0.24790757696798377\n",
      "B4 \t 715 \t 0.2602888219750507\n",
      "B5 \t 669 \t 0.26743317151109197\n",
      "TITLE \t 1286 \t 0.0\n",
      "IR \t 42 \t 0.0\n",
      "LOI \t 26 \t 0.0\n",
      "CPI \t 43 \t 0.0\n",
      "STATUS \t 2 \t 0.0\n"
     ]
    }
   ],
   "source": [
    "# 결측값 비율이 30% 이하인 column만 사용\n",
    "features = []\n",
    "for f in train.columns:\n",
    "    if train[f].isnull().sum()/train.shape[0] <= 0.3:\n",
    "        print(f, '\\t', train[f].nunique(), '\\t', train[f].isnull().sum()/train.shape[0])\n",
    "        features.append(f)"
   ]
  },
  {
   "cell_type": "code",
   "execution_count": 5,
   "id": "94467acb",
   "metadata": {},
   "outputs": [],
   "source": [
    "# handle_profile은 숫자가 문자와 숫자형태를 둘다 표시되어 이에 대한 수정코드 구현\n",
    "# 0은 결측값, 98은 중복값을 포함한 이상한 숫자"
   ]
  },
  {
   "cell_type": "code",
   "execution_count": 6,
   "id": "99375ff8",
   "metadata": {
    "execution": {
     "iopub.execute_input": "2023-12-20T10:37:42.969711Z",
     "iopub.status.busy": "2023-12-20T10:37:42.969246Z",
     "iopub.status.idle": "2023-12-20T10:37:46.431890Z",
     "shell.execute_reply": "2023-12-20T10:37:46.430875Z"
    },
    "papermill": {
     "duration": 3.549473,
     "end_time": "2023-12-20T10:37:46.434699",
     "exception": false,
     "start_time": "2023-12-20T10:37:42.885226",
     "status": "completed"
    },
    "tags": []
   },
   "outputs": [],
   "source": [
    "\n",
    "def handle_profile(x):\n",
    "    if pd.isna(x):\n",
    "        return 0\n",
    "    elif x in range(1,7):\n",
    "        return int(x)\n",
    "    elif x == 97:\n",
    "        return int(x)\n",
    "    elif x in ['1', '2', '3', '4', '5', '6', '97']:\n",
    "        return int(x)\n",
    "    elif x in ['1,', '2,', '3,', '4,', '5,', '6,', '97,']:\n",
    "        return int(x[0])\n",
    "    elif str(x).startswith('97,'):\n",
    "        return 97\n",
    "    else:\n",
    "        return 98\n",
    "train.SQ4 = train.SQ4.apply(handle_profile)\n",
    "test.SQ4 = test.SQ4.apply(handle_profile)"
   ]
  },
  {
   "cell_type": "code",
   "execution_count": 7,
   "id": "b4b01970",
   "metadata": {
    "execution": {
     "iopub.execute_input": "2023-12-20T10:37:46.472539Z",
     "iopub.status.busy": "2023-12-20T10:37:46.472112Z",
     "iopub.status.idle": "2023-12-20T10:37:49.358600Z",
     "shell.execute_reply": "2023-12-20T10:37:49.357485Z"
    },
    "papermill": {
     "duration": 2.90896,
     "end_time": "2023-12-20T10:37:49.361468",
     "exception": false,
     "start_time": "2023-12-20T10:37:46.452508",
     "status": "completed"
    },
    "tags": []
   },
   "outputs": [],
   "source": [
    "def handle_profile(x):\n",
    "    if pd.isna(x):\n",
    "        return 0\n",
    "    elif x in range(1,5):\n",
    "        return int(x)\n",
    "    elif x in ['1', '2', '3', '4']:\n",
    "        return int(x)\n",
    "    elif x in ['1.0', '2.0', '3.0', '4.0']:\n",
    "        return int(x[0])\n",
    "    else:\n",
    "        return 98\n",
    "train.SQ5 = train.SQ5.apply(handle_profile)\n",
    "test.SQ5 = test.SQ5.apply(handle_profile)"
   ]
  },
  {
   "cell_type": "code",
   "execution_count": 8,
   "id": "c186cd05",
   "metadata": {
    "execution": {
     "iopub.execute_input": "2023-12-20T10:37:49.399043Z",
     "iopub.status.busy": "2023-12-20T10:37:49.398623Z",
     "iopub.status.idle": "2023-12-20T10:37:52.647819Z",
     "shell.execute_reply": "2023-12-20T10:37:52.646589Z"
    },
    "papermill": {
     "duration": 3.272321,
     "end_time": "2023-12-20T10:37:52.651635",
     "exception": false,
     "start_time": "2023-12-20T10:37:49.379314",
     "status": "completed"
    },
    "tags": []
   },
   "outputs": [],
   "source": [
    "def handle_profile(x):\n",
    "    if pd.isna(x):\n",
    "        return 0\n",
    "    elif x in range(1,3):\n",
    "        return int(x)\n",
    "    elif x == 97:\n",
    "        return int(x)\n",
    "    elif x in ['1', '2','97']:\n",
    "        return int(x)\n",
    "    elif x in ['1,', '2,','97,']:\n",
    "        return int(x[0])\n",
    "    elif str(x).startswith('97,'):\n",
    "        return 97\n",
    "    else:\n",
    "        return 98\n",
    "train.SQ6 = train.SQ6.apply(handle_profile)\n",
    "test.SQ6 = test.SQ6.apply(handle_profile)"
   ]
  },
  {
   "cell_type": "code",
   "execution_count": 9,
   "id": "dbc7e7da",
   "metadata": {
    "execution": {
     "iopub.execute_input": "2023-12-20T10:37:52.691713Z",
     "iopub.status.busy": "2023-12-20T10:37:52.691309Z",
     "iopub.status.idle": "2023-12-20T10:37:56.469128Z",
     "shell.execute_reply": "2023-12-20T10:37:56.467889Z"
    },
    "papermill": {
     "duration": 3.800797,
     "end_time": "2023-12-20T10:37:56.472114",
     "exception": false,
     "start_time": "2023-12-20T10:37:52.671317",
     "status": "completed"
    },
    "tags": []
   },
   "outputs": [],
   "source": [
    "def handle_profile(x):\n",
    "    if pd.isna(x):\n",
    "        return 0\n",
    "    elif x in range(1,17):\n",
    "        return int(x)\n",
    "    elif x == 99:\n",
    "        return int(x)\n",
    "    elif x in ['1','2','3','4','5','6','7','8','9','10','11','12','13','14','15','16','99']:\n",
    "        return int(x)\n",
    "    elif x in ['1.0','2.0','3.0','4.0','5.0','6.0','7.0','8.0','9.0','10.0','11.0','12.0','13.0','14.0','15.0','16.0','99.0']:\n",
    "        return int(x.split('.')[0])\n",
    "    elif x in ['1,','2,','3,','4,','5,','6,','7,','8,','9,','10,','11,','12,','13,','14,','15,','16,','99,']:\n",
    "        return int(x.split(',')[0])\n",
    "    else:\n",
    "        return 98\n",
    "\n",
    "train.SQ7 = train.SQ7.apply(handle_profile)\n",
    "test.SQ7 = test.SQ7.apply(handle_profile)"
   ]
  },
  {
   "cell_type": "code",
   "execution_count": 10,
   "id": "adef18d0",
   "metadata": {
    "execution": {
     "iopub.execute_input": "2023-12-20T10:37:56.510139Z",
     "iopub.status.busy": "2023-12-20T10:37:56.509420Z",
     "iopub.status.idle": "2023-12-20T10:37:59.414766Z",
     "shell.execute_reply": "2023-12-20T10:37:59.413617Z"
    },
    "papermill": {
     "duration": 2.92765,
     "end_time": "2023-12-20T10:37:59.417651",
     "exception": false,
     "start_time": "2023-12-20T10:37:56.490001",
     "status": "completed"
    },
    "tags": []
   },
   "outputs": [],
   "source": [
    "def handle_profile(x):\n",
    "    if pd.isna(x):\n",
    "        return 0\n",
    "    elif x in range(1,6):\n",
    "        return int(x)\n",
    "    elif x in ['1', '2', '3', '4', '5']:\n",
    "        return int(x)\n",
    "    elif x in ['1.0','2.0','3.0','4.0','5.0']:\n",
    "        return int(x[0])\n",
    "    else:\n",
    "        return 98\n",
    "\n",
    "train.SQ8 = train.SQ8.apply(handle_profile)\n",
    "test.SQ8 = test.SQ8.apply(handle_profile)"
   ]
  },
  {
   "cell_type": "code",
   "execution_count": 11,
   "id": "1c3355bf",
   "metadata": {
    "execution": {
     "iopub.execute_input": "2023-12-20T10:37:59.456872Z",
     "iopub.status.busy": "2023-12-20T10:37:59.456032Z",
     "iopub.status.idle": "2023-12-20T10:38:03.217698Z",
     "shell.execute_reply": "2023-12-20T10:38:03.216624Z"
    },
    "papermill": {
     "duration": 3.784502,
     "end_time": "2023-12-20T10:38:03.220572",
     "exception": false,
     "start_time": "2023-12-20T10:37:59.436070",
     "status": "completed"
    },
    "tags": []
   },
   "outputs": [],
   "source": [
    "def handle_profile(x):\n",
    "    if pd.isna(x):\n",
    "        return 0\n",
    "    elif x in range(1,23):\n",
    "        return int(x)\n",
    "    elif x == 99:\n",
    "        return int(x)\n",
    "    elif x in ['1','2','3','4','5','6','7','8','9','10','11','12','13','14','15','16','17', '18', '19', '20', '21', '22', '99']:\n",
    "        return int(x)\n",
    "    else:\n",
    "        return 98\n",
    "train.A1 = train.A1.apply(handle_profile)\n",
    "test.A1 = test.A1.apply(handle_profile)"
   ]
  },
  {
   "cell_type": "code",
   "execution_count": 12,
   "id": "12a30d01",
   "metadata": {
    "execution": {
     "iopub.execute_input": "2023-12-20T10:38:03.258985Z",
     "iopub.status.busy": "2023-12-20T10:38:03.258529Z",
     "iopub.status.idle": "2023-12-20T10:38:06.027075Z",
     "shell.execute_reply": "2023-12-20T10:38:06.025907Z"
    },
    "papermill": {
     "duration": 2.791121,
     "end_time": "2023-12-20T10:38:06.030096",
     "exception": false,
     "start_time": "2023-12-20T10:38:03.238975",
     "status": "completed"
    },
    "tags": []
   },
   "outputs": [],
   "source": [
    "def handle_profile(x):\n",
    "    if pd.isna(x):\n",
    "        return 0\n",
    "    elif x in ['1',1, 1.0]:\n",
    "        return 2\n",
    "    elif x in ['2', '3',2,3,2.0,3.0]:\n",
    "        return 3\n",
    "    elif x in ['4', '5', '6', '7',4,5,6,7,4.0,5.0,6.0,7.0]:\n",
    "        return 4\n",
    "    elif x in ['8', 8 ,8.0]:\n",
    "        return 5\n",
    "    else:\n",
    "        return 99\n",
    "train.B1 = train.B1.apply(handle_profile)\n",
    "test.B1 = test.B1.apply(handle_profile)"
   ]
  },
  {
   "cell_type": "code",
   "execution_count": 13,
   "id": "3028a195",
   "metadata": {
    "execution": {
     "iopub.execute_input": "2023-12-20T10:38:06.068691Z",
     "iopub.status.busy": "2023-12-20T10:38:06.068242Z",
     "iopub.status.idle": "2023-12-20T10:38:08.620101Z",
     "shell.execute_reply": "2023-12-20T10:38:08.618894Z"
    },
    "papermill": {
     "duration": 2.574616,
     "end_time": "2023-12-20T10:38:08.623015",
     "exception": false,
     "start_time": "2023-12-20T10:38:06.048399",
     "status": "completed"
    },
    "tags": []
   },
   "outputs": [],
   "source": [
    "def handle_profile(x):\n",
    "    if pd.isna(x):\n",
    "        return 0\n",
    "    elif x in ['1', '2', '3', '4', '5', '6', '97', 1,2,3,4,5,6,97,1.0,2.0,3.0,4.0,5.0,6.0,97.0]:\n",
    "        return int(x)\n",
    "    else:\n",
    "        return 98\n",
    "\n",
    "train.B2 = train.B2.apply(handle_profile)\n",
    "test.B2 = test.B2.apply(handle_profile)"
   ]
  },
  {
   "cell_type": "code",
   "execution_count": 14,
   "id": "da477b33",
   "metadata": {
    "execution": {
     "iopub.execute_input": "2023-12-20T10:38:08.661344Z",
     "iopub.status.busy": "2023-12-20T10:38:08.660906Z",
     "iopub.status.idle": "2023-12-20T10:38:11.068102Z",
     "shell.execute_reply": "2023-12-20T10:38:11.066862Z"
    },
    "papermill": {
     "duration": 2.429824,
     "end_time": "2023-12-20T10:38:11.071082",
     "exception": false,
     "start_time": "2023-12-20T10:38:08.641258",
     "status": "completed"
    },
    "tags": []
   },
   "outputs": [],
   "source": [
    "def handle_profile(x):\n",
    "    if pd.isna(x):\n",
    "        return 0\n",
    "    elif x in ['1', '2', '3']:\n",
    "        return int(x)\n",
    "    elif x in ['1,', '2,', '3,']:\n",
    "        return int(x[0])\n",
    "    elif x in ['99', '99,']:\n",
    "        return 99\n",
    "    else:\n",
    "        return 4  # 기타 제조사\n",
    "\n",
    "train.B3 = train.B3.apply(handle_profile)\n",
    "test.B3 = test.B3.apply(handle_profile)"
   ]
  },
  {
   "cell_type": "code",
   "execution_count": 15,
   "id": "5aba9aca",
   "metadata": {
    "execution": {
     "iopub.execute_input": "2023-12-20T10:38:11.111800Z",
     "iopub.status.busy": "2023-12-20T10:38:11.111006Z",
     "iopub.status.idle": "2023-12-20T10:38:14.323368Z",
     "shell.execute_reply": "2023-12-20T10:38:14.322150Z"
    },
    "papermill": {
     "duration": 3.23545,
     "end_time": "2023-12-20T10:38:14.326097",
     "exception": false,
     "start_time": "2023-12-20T10:38:11.090647",
     "status": "completed"
    },
    "tags": []
   },
   "outputs": [],
   "source": [
    "def handle_profile(x):\n",
    "    if pd.isna(x):\n",
    "        return 0\n",
    "    elif x in range(1,9):\n",
    "        return int(x)\n",
    "    elif x == 97:\n",
    "        return int(x)    \n",
    "    elif x == 99:\n",
    "        return int(x)\n",
    "    elif x in ['1','2','3','4','5','6','7','8','97','99']:\n",
    "        return int(x)\n",
    "    else:\n",
    "        return 98\n",
    "\n",
    "train.B4 = train.B4.apply(handle_profile)\n",
    "test.B4 = test.B4.apply(handle_profile)"
   ]
  },
  {
   "cell_type": "code",
   "execution_count": 16,
   "id": "d5d00aab",
   "metadata": {
    "execution": {
     "iopub.execute_input": "2023-12-20T10:38:14.365611Z",
     "iopub.status.busy": "2023-12-20T10:38:14.365207Z",
     "iopub.status.idle": "2023-12-20T10:38:17.808203Z",
     "shell.execute_reply": "2023-12-20T10:38:17.806934Z"
    },
    "papermill": {
     "duration": 3.465689,
     "end_time": "2023-12-20T10:38:17.811037",
     "exception": false,
     "start_time": "2023-12-20T10:38:14.345348",
     "status": "completed"
    },
    "tags": []
   },
   "outputs": [],
   "source": [
    "def handle_profile(x):\n",
    "    if pd.isna(x):\n",
    "        return 0\n",
    "    elif x in range(1,10):\n",
    "        return int(x)\n",
    "    elif x == 97:\n",
    "        return int(x)    \n",
    "    elif x == 99:\n",
    "        return int(x)\n",
    "    elif x in ['1', '2', '3', '4', '5', '6', '7', '8', '9', '10', '97', '99']:\n",
    "        return int(x)\n",
    "    elif x in ['1,', '2,', '3,', '4,', '5,', '6,', '7,', '8,', '9,', '10,', '97,', '99,']:\n",
    "        return int(x[0])\n",
    "    elif str(x).startswith('97,'):\n",
    "        return 97\n",
    "    else:\n",
    "        return 98\n",
    "train.B5 = train.B5.apply(handle_profile)\n",
    "test.B5 = test.B5.apply(handle_profile)"
   ]
  },
  {
   "cell_type": "code",
   "execution_count": 17,
   "id": "c57ffc2c",
   "metadata": {
    "execution": {
     "iopub.execute_input": "2023-12-20T10:38:17.849797Z",
     "iopub.status.busy": "2023-12-20T10:38:17.849363Z",
     "iopub.status.idle": "2023-12-20T10:39:01.701888Z",
     "shell.execute_reply": "2023-12-20T10:39:01.700474Z"
    },
    "papermill": {
     "duration": 43.875148,
     "end_time": "2023-12-20T10:39:01.704758",
     "exception": false,
     "start_time": "2023-12-20T10:38:17.829610",
     "status": "completed"
    },
    "tags": []
   },
   "outputs": [],
   "source": [
    "word_counts = {}\n",
    "def count_word(x): # 응답한 서베이 제목에서 한글 단어만 분리하고 빈도 계산\n",
    "    if x['STATUS'] == 1:\n",
    "        for w in re.sub(r'[^ ㄱ-ㅣ가-힣]', '', x['TITLE']).split():\n",
    "            word_counts[w] = word_counts.get(w, 0) + 1\n",
    "def score_word(x): # 빈도의 합으로 제목을 Encoding\n",
    "    score = 0\n",
    "    for w in re.sub(r'[^ ㄱ-ㅣ가-힣]', '', x['TITLE']).split():\n",
    "        score += word_counts.get(w, 0)\n",
    "    return score    \n",
    "            \n",
    "train.apply(count_word, axis=1)\n",
    "train.TITLE = train.apply(score_word, axis=1)\n",
    "test.TITLE = test.apply(score_word, axis=1)"
   ]
  },
  {
   "cell_type": "code",
   "execution_count": 18,
   "id": "8b9cf971",
   "metadata": {
    "execution": {
     "iopub.execute_input": "2023-12-20T10:39:01.790196Z",
     "iopub.status.busy": "2023-12-20T10:39:01.789764Z",
     "iopub.status.idle": "2023-12-20T10:39:04.288971Z",
     "shell.execute_reply": "2023-12-20T10:39:04.287708Z"
    },
    "papermill": {
     "duration": 2.521782,
     "end_time": "2023-12-20T10:39:04.291702",
     "exception": false,
     "start_time": "2023-12-20T10:39:01.769920",
     "status": "completed"
    },
    "tags": []
   },
   "outputs": [],
   "source": [
    "# userID에 대한 응답률 feature 생성\n",
    "res_freq = train.query('STATUS == 1').groupby('userID')['userID'].agg([('FREQ', np.size)]).reset_index()\n",
    "send_freq = train.groupby('userID')['userID'].agg([('SEND', np.size)]).reset_index()\n",
    "train = train.merge(res_freq, how='left').merge(send_freq, how='left')\n",
    "#유저가 모든 설문응답을 안하면 총 status의 개수가 0이라 결측값 발생\n",
    "train['RESRATE'] = train['FREQ'] / train['SEND']\n",
    "#그 결측값을 0으로 대체\n",
    "train['RESRATE'] = train['RESRATE'].fillna(0)\n",
    "\n",
    "mean_resrate = train['RESRATE'].mean()\n",
    "\n",
    "del train['FREQ'], train['SEND']\n",
    "\n",
    "\n",
    "test = pd.merge(test, train.drop_duplicates(subset=['userID'])[['userID', 'RESRATE']], how='left')\n",
    "# train 데이터에 없는 userID가 결측값으로 발생, 결측값을 평균값으로 대체(중앙값으로 해봤지만 결과값은 같음)\n",
    "test['RESRATE'] = test['RESRATE'].fillna(mean_resrate)"
   ]
  },
  {
   "cell_type": "code",
   "execution_count": 19,
   "id": "64ed6292",
   "metadata": {
    "execution": {
     "iopub.execute_input": "2023-12-20T10:39:04.331031Z",
     "iopub.status.busy": "2023-12-20T10:39:04.330571Z",
     "iopub.status.idle": "2023-12-20T10:39:06.162906Z",
     "shell.execute_reply": "2023-12-20T10:39:06.161515Z"
    },
    "papermill": {
     "duration": 1.855505,
     "end_time": "2023-12-20T10:39:06.165785",
     "exception": false,
     "start_time": "2023-12-20T10:39:04.310280",
     "status": "completed"
    },
    "tags": []
   },
   "outputs": [],
   "source": [
    "# surveyID에 대한 응답률 feature 생성\n",
    "res_freq = train.query('STATUS == 1').groupby('surveyID')['surveyID'].agg([('FREQ', np.size)]).reset_index()\n",
    "send_freq = train.groupby('surveyID')['surveyID'].agg([('SEND', np.size)]).reset_index()\n",
    "train = train.merge(res_freq, how='left').merge(send_freq, how='left')\n",
    "\n",
    "train['RESRATE_s'] = train['FREQ'] / train['SEND']\n",
    "train['RESRATE_s'] = train['RESRATE_s'].fillna(0)\n",
    "mean_resrate_s = train['RESRATE_s'].mean()\n",
    "\n",
    "del train['FREQ'], train['SEND']\n",
    "\n",
    "test = pd.merge(test, train.drop_duplicates(subset=['surveyID'])[['surveyID', 'RESRATE_s']], how='left')\n",
    "\n",
    "test['RESRATE_s'] = test['RESRATE_s'].fillna(mean_resrate_s)"
   ]
  },
  {
   "cell_type": "code",
   "execution_count": 20,
   "id": "d60dba26",
   "metadata": {
    "execution": {
     "iopub.execute_input": "2023-12-20T10:39:06.205326Z",
     "iopub.status.busy": "2023-12-20T10:39:06.204866Z",
     "iopub.status.idle": "2023-12-20T10:39:07.259948Z",
     "shell.execute_reply": "2023-12-20T10:39:07.258813Z"
    },
    "papermill": {
     "duration": 1.077934,
     "end_time": "2023-12-20T10:39:07.262708",
     "exception": false,
     "start_time": "2023-12-20T10:39:06.184774",
     "status": "completed"
    },
    "tags": []
   },
   "outputs": [],
   "source": [
    "#CPI에 대한 응답률 feature 생성\n",
    "res_freq = train.query('STATUS == 1').groupby('CPI')['CPI'].agg([('FREQ', np.size)]).reset_index()\n",
    "send_freq = train.groupby('CPI')['CPI'].agg([('SEND', np.size)]).reset_index()\n",
    "train = train.merge(res_freq, how='left').merge(send_freq, how='left')\n",
    "\n",
    "train['RESRATE_c'] = train['FREQ'] / train['SEND']\n",
    "train['RESRATE_c'] = train['RESRATE_c'].fillna(0)\n",
    "mean_resrate_c = train['RESRATE_c'].mean()\n",
    "\n",
    "del train['FREQ'], train['SEND']\n",
    "\n",
    "test = pd.merge(test, train.drop_duplicates(subset=['CPI'])[['CPI', 'RESRATE_c']], how='left')\n",
    "test['RESRATE_c'] = test['RESRATE_c'].fillna(mean_resrate_c)"
   ]
  },
  {
   "cell_type": "code",
   "execution_count": 21,
   "id": "3432a8fd",
   "metadata": {
    "execution": {
     "iopub.execute_input": "2023-12-20T10:39:07.301702Z",
     "iopub.status.busy": "2023-12-20T10:39:07.301303Z",
     "iopub.status.idle": "2023-12-20T10:39:07.774059Z",
     "shell.execute_reply": "2023-12-20T10:39:07.772962Z"
    },
    "papermill": {
     "duration": 0.495303,
     "end_time": "2023-12-20T10:39:07.776746",
     "exception": false,
     "start_time": "2023-12-20T10:39:07.281443",
     "status": "completed"
    },
    "tags": []
   },
   "outputs": [],
   "source": [
    "# IR별 status 응답여부의 비율\n",
    "train_IR = ((train.groupby('IR')['STATUS'].sum())/(train.IR.value_counts().sort_index())).reset_index().rename(columns = {0 : 'STATUS_ratio_IR'})\n",
    "train = train.merge(train_IR,how='left')\n",
    "test = test.merge(train_IR,how='left')\n",
    "test.STATUS_ratio_IR=test.STATUS_ratio_IR.fillna(test.STATUS_ratio_IR.mean())"
   ]
  },
  {
   "cell_type": "code",
   "execution_count": 22,
   "id": "c60c063e",
   "metadata": {
    "execution": {
     "iopub.execute_input": "2023-12-20T10:39:07.815756Z",
     "iopub.status.busy": "2023-12-20T10:39:07.815352Z",
     "iopub.status.idle": "2023-12-20T10:39:08.322465Z",
     "shell.execute_reply": "2023-12-20T10:39:08.321159Z"
    },
    "papermill": {
     "duration": 0.53015,
     "end_time": "2023-12-20T10:39:08.325556",
     "exception": false,
     "start_time": "2023-12-20T10:39:07.795406",
     "status": "completed"
    },
    "tags": []
   },
   "outputs": [],
   "source": [
    "# LOI별 status 응답여부의 비율\n",
    "train_LOI = ((train.groupby('LOI')['STATUS'].sum())/(train.LOI.value_counts().sort_index())).reset_index().rename(columns = {0 : 'STATUS_ratio_LOI'})\n",
    "train = train.merge(train_LOI,how='left')\n",
    "test = test.merge(train_LOI,how='left')\n",
    "test.STATUS_ratio_LOI=test.STATUS_ratio_LOI.fillna(test.STATUS_ratio_LOI.mean())"
   ]
  },
  {
   "cell_type": "code",
   "execution_count": 23,
   "id": "98cf90cb",
   "metadata": {
    "execution": {
     "iopub.execute_input": "2023-12-20T10:39:08.365901Z",
     "iopub.status.busy": "2023-12-20T10:39:08.365487Z",
     "iopub.status.idle": "2023-12-20T10:39:08.851956Z",
     "shell.execute_reply": "2023-12-20T10:39:08.850886Z"
    },
    "papermill": {
     "duration": 0.510312,
     "end_time": "2023-12-20T10:39:08.854763",
     "exception": false,
     "start_time": "2023-12-20T10:39:08.344451",
     "status": "completed"
    },
    "tags": []
   },
   "outputs": [],
   "source": [
    "#CPI별 status 응답여부의 비율\n",
    "train_CPI = ((train.groupby('CPI')['STATUS'].sum())/(train.CPI.value_counts().sort_index())).reset_index().rename(columns = {0 : 'STATUS_ratio_CPI'})\n",
    "train = train.merge(train_CPI,how='left')\n",
    "test = test.merge(train_CPI,how='left')\n",
    "test.STATUS_ratio_CPI=test.STATUS_ratio_CPI.fillna(test.STATUS_ratio_CPI.mean())"
   ]
  },
  {
   "cell_type": "code",
   "execution_count": 24,
   "id": "9fedf374",
   "metadata": {
    "execution": {
     "iopub.execute_input": "2023-12-20T10:39:08.894080Z",
     "iopub.status.busy": "2023-12-20T10:39:08.893639Z",
     "iopub.status.idle": "2023-12-20T10:39:09.635453Z",
     "shell.execute_reply": "2023-12-20T10:39:09.634266Z"
    },
    "papermill": {
     "duration": 0.764966,
     "end_time": "2023-12-20T10:39:09.638460",
     "exception": false,
     "start_time": "2023-12-20T10:39:08.873494",
     "status": "completed"
    },
    "tags": []
   },
   "outputs": [],
   "source": [
    "# type별 status의 평균\n",
    "TYPE_mean = pd.DataFrame(train.groupby('TYPE')['STATUS'].agg([('TYPE_mean',np.mean)])).reset_index()\n",
    "train = train.merge(TYPE_mean, how='left')\n",
    "test = test.merge(TYPE_mean, how='left')"
   ]
  },
  {
   "cell_type": "code",
   "execution_count": 25,
   "id": "d432946f",
   "metadata": {
    "execution": {
     "iopub.execute_input": "2023-12-20T10:39:09.727853Z",
     "iopub.status.busy": "2023-12-20T10:39:09.727439Z",
     "iopub.status.idle": "2023-12-20T10:39:11.480983Z",
     "shell.execute_reply": "2023-12-20T10:39:11.479717Z"
    },
    "papermill": {
     "duration": 1.777685,
     "end_time": "2023-12-20T10:39:11.483698",
     "exception": false,
     "start_time": "2023-12-20T10:39:09.706013",
     "status": "completed"
    },
    "tags": []
   },
   "outputs": [],
   "source": [
    "# 유저 ID 별 획득 누적 포인트\n",
    "Points_earned = pd.DataFrame(train.query('STATUS==1').groupby('userID')['CPI'].agg([('Points_earned',np.sum)])).reset_index()\n",
    "\n",
    "# 유저 ID 별 획득 평균 포인트\n",
    "Points_earned_mean = pd.DataFrame(train.query('STATUS==1').groupby('userID')['CPI'].agg([('Points_earned_mean',np.mean)])).reset_index()\n",
    "\n",
    "train = train.merge(Points_earned, how='left')\n",
    "train = train.merge(Points_earned_mean, how='left')\n",
    "\n",
    "train['Points_earned'].fillna(0, inplace = True)\n",
    "train['Points_earned_mean'].fillna(0, inplace = True)\n",
    "\n",
    "test = test.merge(Points_earned, how='left')\n",
    "test = test.merge(Points_earned_mean, how='left')\n",
    "\n",
    "test['Points_earned'].fillna(0, inplace = True)\n",
    "test['Points_earned_mean'].fillna(0, inplace = True)"
   ]
  },
  {
   "cell_type": "code",
   "execution_count": 26,
   "id": "b471035f",
   "metadata": {
    "execution": {
     "iopub.execute_input": "2023-12-20T10:39:11.523734Z",
     "iopub.status.busy": "2023-12-20T10:39:11.523307Z",
     "iopub.status.idle": "2023-12-20T10:39:12.662302Z",
     "shell.execute_reply": "2023-12-20T10:39:12.661237Z"
    },
    "papermill": {
     "duration": 1.162267,
     "end_time": "2023-12-20T10:39:12.664912",
     "exception": false,
     "start_time": "2023-12-20T10:39:11.502645",
     "status": "completed"
    },
    "tags": []
   },
   "outputs": [],
   "source": [
    "# 결측값 비율이 30% 이하인 column만 사용\n",
    "features = []\n",
    "for f in train.columns:\n",
    "    if train[f].isnull().sum()/train.shape[0] <= 0.3:\n",
    "        features.append(f)\n",
    "\n",
    "features.remove('SQ1')\n",
    "features.remove('SQ2')\n",
    "features.remove('SQ3')\n",
    "features.remove('STATUS')\n"
   ]
  },
  {
   "cell_type": "code",
   "execution_count": 27,
   "id": "99c23c9c",
   "metadata": {
    "execution": {
     "iopub.execute_input": "2023-12-20T10:39:12.707107Z",
     "iopub.status.busy": "2023-12-20T10:39:12.706692Z",
     "iopub.status.idle": "2023-12-20T10:39:12.854520Z",
     "shell.execute_reply": "2023-12-20T10:39:12.853401Z"
    },
    "papermill": {
     "duration": 0.172537,
     "end_time": "2023-12-20T10:39:12.857367",
     "exception": false,
     "start_time": "2023-12-20T10:39:12.684830",
     "status": "completed"
    },
    "tags": []
   },
   "outputs": [],
   "source": [
    "# 데이터 필터링\n",
    "X_train = train[features]\n",
    "X_test = test[features]\n",
    "y_train = train['STATUS']\n",
    "\n",
    "# submission을 만들 때 사용하기 위해 ID 저정\n",
    "ID_test = test.ID\n",
    "\n",
    "# # 메모리 낭비를 막기위해 불필요한 데이터 삭제\n",
    "# del train, test \n",
    "# gc.collect()"
   ]
  },
  {
   "cell_type": "code",
   "execution_count": 28,
   "id": "436cd467",
   "metadata": {
    "execution": {
     "iopub.execute_input": "2023-12-20T10:39:12.897695Z",
     "iopub.status.busy": "2023-12-20T10:39:12.897311Z",
     "iopub.status.idle": "2023-12-20T10:39:13.291426Z",
     "shell.execute_reply": "2023-12-20T10:39:13.290235Z"
    },
    "papermill": {
     "duration": 0.417451,
     "end_time": "2023-12-20T10:39:13.293978",
     "exception": false,
     "start_time": "2023-12-20T10:39:12.876527",
     "status": "completed"
    },
    "tags": []
   },
   "outputs": [
    {
     "data": {
      "text/html": [
       "<div>\n",
       "<style scoped>\n",
       "    .dataframe tbody tr th:only-of-type {\n",
       "        vertical-align: middle;\n",
       "    }\n",
       "\n",
       "    .dataframe tbody tr th {\n",
       "        vertical-align: top;\n",
       "    }\n",
       "\n",
       "    .dataframe thead th {\n",
       "        text-align: right;\n",
       "    }\n",
       "</style>\n",
       "<table border=\"1\" class=\"dataframe\">\n",
       "  <thead>\n",
       "    <tr style=\"text-align: right;\">\n",
       "      <th></th>\n",
       "      <th>userID</th>\n",
       "      <th>surveyID</th>\n",
       "      <th>BIRTH</th>\n",
       "      <th>GENDER</th>\n",
       "      <th>REGION</th>\n",
       "      <th>TYPE</th>\n",
       "      <th>SQ4</th>\n",
       "      <th>SQ5</th>\n",
       "      <th>SQ6</th>\n",
       "      <th>SQ7</th>\n",
       "      <th>...</th>\n",
       "      <th>CPI</th>\n",
       "      <th>RESRATE</th>\n",
       "      <th>RESRATE_s</th>\n",
       "      <th>RESRATE_c</th>\n",
       "      <th>STATUS_ratio_IR</th>\n",
       "      <th>STATUS_ratio_LOI</th>\n",
       "      <th>STATUS_ratio_CPI</th>\n",
       "      <th>TYPE_mean</th>\n",
       "      <th>Points_earned</th>\n",
       "      <th>Points_earned_mean</th>\n",
       "    </tr>\n",
       "  </thead>\n",
       "  <tbody>\n",
       "    <tr>\n",
       "      <th>0</th>\n",
       "      <td>p00000</td>\n",
       "      <td>s04673</td>\n",
       "      <td>1976.0</td>\n",
       "      <td>1.0</td>\n",
       "      <td>2.0</td>\n",
       "      <td>D</td>\n",
       "      <td>1</td>\n",
       "      <td>3</td>\n",
       "      <td>1</td>\n",
       "      <td>0</td>\n",
       "      <td>...</td>\n",
       "      <td>715.0</td>\n",
       "      <td>0.975524</td>\n",
       "      <td>0.772765</td>\n",
       "      <td>0.577831</td>\n",
       "      <td>0.318793</td>\n",
       "      <td>0.577831</td>\n",
       "      <td>0.577831</td>\n",
       "      <td>0.611816</td>\n",
       "      <td>159255.0</td>\n",
       "      <td>570.806452</td>\n",
       "    </tr>\n",
       "    <tr>\n",
       "      <th>1</th>\n",
       "      <td>p00000</td>\n",
       "      <td>s04675</td>\n",
       "      <td>1976.0</td>\n",
       "      <td>1.0</td>\n",
       "      <td>2.0</td>\n",
       "      <td>D</td>\n",
       "      <td>1</td>\n",
       "      <td>3</td>\n",
       "      <td>1</td>\n",
       "      <td>0</td>\n",
       "      <td>...</td>\n",
       "      <td>550.0</td>\n",
       "      <td>0.975524</td>\n",
       "      <td>0.691729</td>\n",
       "      <td>0.550618</td>\n",
       "      <td>0.318793</td>\n",
       "      <td>0.526319</td>\n",
       "      <td>0.550618</td>\n",
       "      <td>0.611816</td>\n",
       "      <td>159255.0</td>\n",
       "      <td>570.806452</td>\n",
       "    </tr>\n",
       "    <tr>\n",
       "      <th>2</th>\n",
       "      <td>p00000</td>\n",
       "      <td>s04683</td>\n",
       "      <td>1976.0</td>\n",
       "      <td>1.0</td>\n",
       "      <td>2.0</td>\n",
       "      <td>D</td>\n",
       "      <td>1</td>\n",
       "      <td>3</td>\n",
       "      <td>1</td>\n",
       "      <td>0</td>\n",
       "      <td>...</td>\n",
       "      <td>480.0</td>\n",
       "      <td>0.975524</td>\n",
       "      <td>0.323221</td>\n",
       "      <td>0.241320</td>\n",
       "      <td>0.318793</td>\n",
       "      <td>0.255609</td>\n",
       "      <td>0.241320</td>\n",
       "      <td>0.611816</td>\n",
       "      <td>159255.0</td>\n",
       "      <td>570.806452</td>\n",
       "    </tr>\n",
       "    <tr>\n",
       "      <th>3</th>\n",
       "      <td>p00000</td>\n",
       "      <td>s04684</td>\n",
       "      <td>1976.0</td>\n",
       "      <td>1.0</td>\n",
       "      <td>2.0</td>\n",
       "      <td>D</td>\n",
       "      <td>1</td>\n",
       "      <td>3</td>\n",
       "      <td>1</td>\n",
       "      <td>0</td>\n",
       "      <td>...</td>\n",
       "      <td>480.0</td>\n",
       "      <td>0.975524</td>\n",
       "      <td>0.259259</td>\n",
       "      <td>0.241320</td>\n",
       "      <td>0.318793</td>\n",
       "      <td>0.255609</td>\n",
       "      <td>0.241320</td>\n",
       "      <td>0.611816</td>\n",
       "      <td>159255.0</td>\n",
       "      <td>570.806452</td>\n",
       "    </tr>\n",
       "    <tr>\n",
       "      <th>4</th>\n",
       "      <td>p00000</td>\n",
       "      <td>s04686</td>\n",
       "      <td>1976.0</td>\n",
       "      <td>1.0</td>\n",
       "      <td>2.0</td>\n",
       "      <td>D</td>\n",
       "      <td>1</td>\n",
       "      <td>3</td>\n",
       "      <td>1</td>\n",
       "      <td>0</td>\n",
       "      <td>...</td>\n",
       "      <td>600.0</td>\n",
       "      <td>0.975524</td>\n",
       "      <td>0.269555</td>\n",
       "      <td>0.242436</td>\n",
       "      <td>0.318793</td>\n",
       "      <td>0.303201</td>\n",
       "      <td>0.242436</td>\n",
       "      <td>0.611816</td>\n",
       "      <td>159255.0</td>\n",
       "      <td>570.806452</td>\n",
       "    </tr>\n",
       "    <tr>\n",
       "      <th>...</th>\n",
       "      <td>...</td>\n",
       "      <td>...</td>\n",
       "      <td>...</td>\n",
       "      <td>...</td>\n",
       "      <td>...</td>\n",
       "      <td>...</td>\n",
       "      <td>...</td>\n",
       "      <td>...</td>\n",
       "      <td>...</td>\n",
       "      <td>...</td>\n",
       "      <td>...</td>\n",
       "      <td>...</td>\n",
       "      <td>...</td>\n",
       "      <td>...</td>\n",
       "      <td>...</td>\n",
       "      <td>...</td>\n",
       "      <td>...</td>\n",
       "      <td>...</td>\n",
       "      <td>...</td>\n",
       "      <td>...</td>\n",
       "      <td>...</td>\n",
       "    </tr>\n",
       "    <tr>\n",
       "      <th>813645</th>\n",
       "      <td>p16050</td>\n",
       "      <td>s05667</td>\n",
       "      <td>1983.0</td>\n",
       "      <td>1.0</td>\n",
       "      <td>16.0</td>\n",
       "      <td>D</td>\n",
       "      <td>4</td>\n",
       "      <td>1</td>\n",
       "      <td>1</td>\n",
       "      <td>99</td>\n",
       "      <td>...</td>\n",
       "      <td>550.0</td>\n",
       "      <td>0.428571</td>\n",
       "      <td>0.515140</td>\n",
       "      <td>0.550618</td>\n",
       "      <td>0.471397</td>\n",
       "      <td>0.594170</td>\n",
       "      <td>0.550618</td>\n",
       "      <td>0.611816</td>\n",
       "      <td>10510.0</td>\n",
       "      <td>583.888889</td>\n",
       "    </tr>\n",
       "    <tr>\n",
       "      <th>813646</th>\n",
       "      <td>p16050</td>\n",
       "      <td>s05802</td>\n",
       "      <td>1983.0</td>\n",
       "      <td>1.0</td>\n",
       "      <td>16.0</td>\n",
       "      <td>D</td>\n",
       "      <td>4</td>\n",
       "      <td>1</td>\n",
       "      <td>1</td>\n",
       "      <td>99</td>\n",
       "      <td>...</td>\n",
       "      <td>825.0</td>\n",
       "      <td>0.428571</td>\n",
       "      <td>0.606909</td>\n",
       "      <td>0.536943</td>\n",
       "      <td>0.571181</td>\n",
       "      <td>0.303201</td>\n",
       "      <td>0.536943</td>\n",
       "      <td>0.611816</td>\n",
       "      <td>10510.0</td>\n",
       "      <td>583.888889</td>\n",
       "    </tr>\n",
       "    <tr>\n",
       "      <th>813647</th>\n",
       "      <td>p16050</td>\n",
       "      <td>s05838</td>\n",
       "      <td>1983.0</td>\n",
       "      <td>1.0</td>\n",
       "      <td>16.0</td>\n",
       "      <td>D</td>\n",
       "      <td>4</td>\n",
       "      <td>1</td>\n",
       "      <td>1</td>\n",
       "      <td>99</td>\n",
       "      <td>...</td>\n",
       "      <td>825.0</td>\n",
       "      <td>0.428571</td>\n",
       "      <td>0.512229</td>\n",
       "      <td>0.536943</td>\n",
       "      <td>0.514682</td>\n",
       "      <td>0.303201</td>\n",
       "      <td>0.536943</td>\n",
       "      <td>0.611816</td>\n",
       "      <td>10510.0</td>\n",
       "      <td>583.888889</td>\n",
       "    </tr>\n",
       "    <tr>\n",
       "      <th>813648</th>\n",
       "      <td>p16050</td>\n",
       "      <td>s05899</td>\n",
       "      <td>1983.0</td>\n",
       "      <td>1.0</td>\n",
       "      <td>16.0</td>\n",
       "      <td>D</td>\n",
       "      <td>4</td>\n",
       "      <td>1</td>\n",
       "      <td>1</td>\n",
       "      <td>99</td>\n",
       "      <td>...</td>\n",
       "      <td>275.0</td>\n",
       "      <td>0.428571</td>\n",
       "      <td>0.690347</td>\n",
       "      <td>0.626766</td>\n",
       "      <td>0.650714</td>\n",
       "      <td>0.642710</td>\n",
       "      <td>0.626766</td>\n",
       "      <td>0.611816</td>\n",
       "      <td>10510.0</td>\n",
       "      <td>583.888889</td>\n",
       "    </tr>\n",
       "    <tr>\n",
       "      <th>813649</th>\n",
       "      <td>p16050</td>\n",
       "      <td>s05902</td>\n",
       "      <td>1983.0</td>\n",
       "      <td>1.0</td>\n",
       "      <td>16.0</td>\n",
       "      <td>D</td>\n",
       "      <td>4</td>\n",
       "      <td>1</td>\n",
       "      <td>1</td>\n",
       "      <td>99</td>\n",
       "      <td>...</td>\n",
       "      <td>935.0</td>\n",
       "      <td>0.428571</td>\n",
       "      <td>0.422622</td>\n",
       "      <td>0.550507</td>\n",
       "      <td>0.318793</td>\n",
       "      <td>0.550507</td>\n",
       "      <td>0.550507</td>\n",
       "      <td>0.611816</td>\n",
       "      <td>10510.0</td>\n",
       "      <td>583.888889</td>\n",
       "    </tr>\n",
       "  </tbody>\n",
       "</table>\n",
       "<p>813650 rows × 30 columns</p>\n",
       "</div>"
      ],
      "text/plain": [
       "        userID surveyID   BIRTH  GENDER  REGION TYPE  SQ4  SQ5  SQ6  SQ7  ...  \\\n",
       "0       p00000   s04673  1976.0     1.0     2.0    D    1    3    1    0  ...   \n",
       "1       p00000   s04675  1976.0     1.0     2.0    D    1    3    1    0  ...   \n",
       "2       p00000   s04683  1976.0     1.0     2.0    D    1    3    1    0  ...   \n",
       "3       p00000   s04684  1976.0     1.0     2.0    D    1    3    1    0  ...   \n",
       "4       p00000   s04686  1976.0     1.0     2.0    D    1    3    1    0  ...   \n",
       "...        ...      ...     ...     ...     ...  ...  ...  ...  ...  ...  ...   \n",
       "813645  p16050   s05667  1983.0     1.0    16.0    D    4    1    1   99  ...   \n",
       "813646  p16050   s05802  1983.0     1.0    16.0    D    4    1    1   99  ...   \n",
       "813647  p16050   s05838  1983.0     1.0    16.0    D    4    1    1   99  ...   \n",
       "813648  p16050   s05899  1983.0     1.0    16.0    D    4    1    1   99  ...   \n",
       "813649  p16050   s05902  1983.0     1.0    16.0    D    4    1    1   99  ...   \n",
       "\n",
       "          CPI   RESRATE  RESRATE_s  RESRATE_c  STATUS_ratio_IR  \\\n",
       "0       715.0  0.975524   0.772765   0.577831         0.318793   \n",
       "1       550.0  0.975524   0.691729   0.550618         0.318793   \n",
       "2       480.0  0.975524   0.323221   0.241320         0.318793   \n",
       "3       480.0  0.975524   0.259259   0.241320         0.318793   \n",
       "4       600.0  0.975524   0.269555   0.242436         0.318793   \n",
       "...       ...       ...        ...        ...              ...   \n",
       "813645  550.0  0.428571   0.515140   0.550618         0.471397   \n",
       "813646  825.0  0.428571   0.606909   0.536943         0.571181   \n",
       "813647  825.0  0.428571   0.512229   0.536943         0.514682   \n",
       "813648  275.0  0.428571   0.690347   0.626766         0.650714   \n",
       "813649  935.0  0.428571   0.422622   0.550507         0.318793   \n",
       "\n",
       "        STATUS_ratio_LOI  STATUS_ratio_CPI  TYPE_mean  Points_earned  \\\n",
       "0               0.577831          0.577831   0.611816       159255.0   \n",
       "1               0.526319          0.550618   0.611816       159255.0   \n",
       "2               0.255609          0.241320   0.611816       159255.0   \n",
       "3               0.255609          0.241320   0.611816       159255.0   \n",
       "4               0.303201          0.242436   0.611816       159255.0   \n",
       "...                  ...               ...        ...            ...   \n",
       "813645          0.594170          0.550618   0.611816        10510.0   \n",
       "813646          0.303201          0.536943   0.611816        10510.0   \n",
       "813647          0.303201          0.536943   0.611816        10510.0   \n",
       "813648          0.642710          0.626766   0.611816        10510.0   \n",
       "813649          0.550507          0.550507   0.611816        10510.0   \n",
       "\n",
       "        Points_earned_mean  \n",
       "0               570.806452  \n",
       "1               570.806452  \n",
       "2               570.806452  \n",
       "3               570.806452  \n",
       "4               570.806452  \n",
       "...                    ...  \n",
       "813645          583.888889  \n",
       "813646          583.888889  \n",
       "813647          583.888889  \n",
       "813648          583.888889  \n",
       "813649          583.888889  \n",
       "\n",
       "[813650 rows x 30 columns]"
      ]
     },
     "execution_count": 28,
     "metadata": {},
     "output_type": "execute_result"
    }
   ],
   "source": [
    "X_train"
   ]
  },
  {
   "cell_type": "code",
   "execution_count": 29,
   "id": "79208606",
   "metadata": {
    "execution": {
     "iopub.execute_input": "2023-12-20T10:39:13.335800Z",
     "iopub.status.busy": "2023-12-20T10:39:13.335343Z",
     "iopub.status.idle": "2023-12-20T10:39:13.341740Z",
     "shell.execute_reply": "2023-12-20T10:39:13.340582Z"
    },
    "papermill": {
     "duration": 0.030101,
     "end_time": "2023-12-20T10:39:13.344030",
     "exception": false,
     "start_time": "2023-12-20T10:39:13.313929",
     "status": "completed"
    },
    "tags": []
   },
   "outputs": [],
   "source": [
    "# 범주형 변수와 수치형 변수를 분리\n",
    "cat_features = ['userID','surveyID','GENDER', 'REGION', 'TYPE', 'SQ4', 'SQ5', 'SQ6', 'SQ7', 'SQ8', 'A1', 'B1', 'B2', 'B3', 'B4', 'B5']\n",
    "num_features = list(set(X_train.columns) - set(cat_features))"
   ]
  },
  {
   "cell_type": "code",
   "execution_count": 30,
   "id": "7ff824d4",
   "metadata": {
    "execution": {
     "iopub.execute_input": "2023-12-20T10:39:13.387293Z",
     "iopub.status.busy": "2023-12-20T10:39:13.386217Z",
     "iopub.status.idle": "2023-12-20T10:39:13.417675Z",
     "shell.execute_reply": "2023-12-20T10:39:13.416568Z"
    },
    "papermill": {
     "duration": 0.056204,
     "end_time": "2023-12-20T10:39:13.420132",
     "exception": false,
     "start_time": "2023-12-20T10:39:13.363928",
     "status": "completed"
    },
    "tags": []
   },
   "outputs": [
    {
     "data": {
      "text/html": [
       "<div>\n",
       "<style scoped>\n",
       "    .dataframe tbody tr th:only-of-type {\n",
       "        vertical-align: middle;\n",
       "    }\n",
       "\n",
       "    .dataframe tbody tr th {\n",
       "        vertical-align: top;\n",
       "    }\n",
       "\n",
       "    .dataframe thead th {\n",
       "        text-align: right;\n",
       "    }\n",
       "</style>\n",
       "<table border=\"1\" class=\"dataframe\">\n",
       "  <thead>\n",
       "    <tr style=\"text-align: right;\">\n",
       "      <th></th>\n",
       "      <th>userID</th>\n",
       "      <th>surveyID</th>\n",
       "      <th>BIRTH</th>\n",
       "      <th>GENDER</th>\n",
       "      <th>REGION</th>\n",
       "      <th>TYPE</th>\n",
       "      <th>SQ4</th>\n",
       "      <th>SQ5</th>\n",
       "      <th>SQ6</th>\n",
       "      <th>SQ7</th>\n",
       "      <th>...</th>\n",
       "      <th>CPI</th>\n",
       "      <th>RESRATE</th>\n",
       "      <th>RESRATE_s</th>\n",
       "      <th>RESRATE_c</th>\n",
       "      <th>STATUS_ratio_IR</th>\n",
       "      <th>STATUS_ratio_LOI</th>\n",
       "      <th>STATUS_ratio_CPI</th>\n",
       "      <th>TYPE_mean</th>\n",
       "      <th>Points_earned</th>\n",
       "      <th>Points_earned_mean</th>\n",
       "    </tr>\n",
       "  </thead>\n",
       "  <tbody>\n",
       "    <tr>\n",
       "      <th>0</th>\n",
       "      <td>p00000</td>\n",
       "      <td>s04673</td>\n",
       "      <td>1976.0</td>\n",
       "      <td>1.0</td>\n",
       "      <td>2.0</td>\n",
       "      <td>D</td>\n",
       "      <td>1</td>\n",
       "      <td>3</td>\n",
       "      <td>1</td>\n",
       "      <td>0</td>\n",
       "      <td>...</td>\n",
       "      <td>715.0</td>\n",
       "      <td>0.975524</td>\n",
       "      <td>0.772765</td>\n",
       "      <td>0.577831</td>\n",
       "      <td>0.318793</td>\n",
       "      <td>0.577831</td>\n",
       "      <td>0.577831</td>\n",
       "      <td>0.611816</td>\n",
       "      <td>159255.0</td>\n",
       "      <td>570.806452</td>\n",
       "    </tr>\n",
       "    <tr>\n",
       "      <th>1</th>\n",
       "      <td>p00000</td>\n",
       "      <td>s04675</td>\n",
       "      <td>1976.0</td>\n",
       "      <td>1.0</td>\n",
       "      <td>2.0</td>\n",
       "      <td>D</td>\n",
       "      <td>1</td>\n",
       "      <td>3</td>\n",
       "      <td>1</td>\n",
       "      <td>0</td>\n",
       "      <td>...</td>\n",
       "      <td>550.0</td>\n",
       "      <td>0.975524</td>\n",
       "      <td>0.691729</td>\n",
       "      <td>0.550618</td>\n",
       "      <td>0.318793</td>\n",
       "      <td>0.526319</td>\n",
       "      <td>0.550618</td>\n",
       "      <td>0.611816</td>\n",
       "      <td>159255.0</td>\n",
       "      <td>570.806452</td>\n",
       "    </tr>\n",
       "    <tr>\n",
       "      <th>2</th>\n",
       "      <td>p00000</td>\n",
       "      <td>s04683</td>\n",
       "      <td>1976.0</td>\n",
       "      <td>1.0</td>\n",
       "      <td>2.0</td>\n",
       "      <td>D</td>\n",
       "      <td>1</td>\n",
       "      <td>3</td>\n",
       "      <td>1</td>\n",
       "      <td>0</td>\n",
       "      <td>...</td>\n",
       "      <td>480.0</td>\n",
       "      <td>0.975524</td>\n",
       "      <td>0.323221</td>\n",
       "      <td>0.241320</td>\n",
       "      <td>0.318793</td>\n",
       "      <td>0.255609</td>\n",
       "      <td>0.241320</td>\n",
       "      <td>0.611816</td>\n",
       "      <td>159255.0</td>\n",
       "      <td>570.806452</td>\n",
       "    </tr>\n",
       "    <tr>\n",
       "      <th>3</th>\n",
       "      <td>p00000</td>\n",
       "      <td>s04684</td>\n",
       "      <td>1976.0</td>\n",
       "      <td>1.0</td>\n",
       "      <td>2.0</td>\n",
       "      <td>D</td>\n",
       "      <td>1</td>\n",
       "      <td>3</td>\n",
       "      <td>1</td>\n",
       "      <td>0</td>\n",
       "      <td>...</td>\n",
       "      <td>480.0</td>\n",
       "      <td>0.975524</td>\n",
       "      <td>0.259259</td>\n",
       "      <td>0.241320</td>\n",
       "      <td>0.318793</td>\n",
       "      <td>0.255609</td>\n",
       "      <td>0.241320</td>\n",
       "      <td>0.611816</td>\n",
       "      <td>159255.0</td>\n",
       "      <td>570.806452</td>\n",
       "    </tr>\n",
       "    <tr>\n",
       "      <th>4</th>\n",
       "      <td>p00000</td>\n",
       "      <td>s04686</td>\n",
       "      <td>1976.0</td>\n",
       "      <td>1.0</td>\n",
       "      <td>2.0</td>\n",
       "      <td>D</td>\n",
       "      <td>1</td>\n",
       "      <td>3</td>\n",
       "      <td>1</td>\n",
       "      <td>0</td>\n",
       "      <td>...</td>\n",
       "      <td>600.0</td>\n",
       "      <td>0.975524</td>\n",
       "      <td>0.269555</td>\n",
       "      <td>0.242436</td>\n",
       "      <td>0.318793</td>\n",
       "      <td>0.303201</td>\n",
       "      <td>0.242436</td>\n",
       "      <td>0.611816</td>\n",
       "      <td>159255.0</td>\n",
       "      <td>570.806452</td>\n",
       "    </tr>\n",
       "  </tbody>\n",
       "</table>\n",
       "<p>5 rows × 30 columns</p>\n",
       "</div>"
      ],
      "text/plain": [
       "   userID surveyID   BIRTH  GENDER  REGION TYPE  SQ4  SQ5  SQ6  SQ7  ...  \\\n",
       "0  p00000   s04673  1976.0     1.0     2.0    D    1    3    1    0  ...   \n",
       "1  p00000   s04675  1976.0     1.0     2.0    D    1    3    1    0  ...   \n",
       "2  p00000   s04683  1976.0     1.0     2.0    D    1    3    1    0  ...   \n",
       "3  p00000   s04684  1976.0     1.0     2.0    D    1    3    1    0  ...   \n",
       "4  p00000   s04686  1976.0     1.0     2.0    D    1    3    1    0  ...   \n",
       "\n",
       "     CPI   RESRATE  RESRATE_s  RESRATE_c  STATUS_ratio_IR  STATUS_ratio_LOI  \\\n",
       "0  715.0  0.975524   0.772765   0.577831         0.318793          0.577831   \n",
       "1  550.0  0.975524   0.691729   0.550618         0.318793          0.526319   \n",
       "2  480.0  0.975524   0.323221   0.241320         0.318793          0.255609   \n",
       "3  480.0  0.975524   0.259259   0.241320         0.318793          0.255609   \n",
       "4  600.0  0.975524   0.269555   0.242436         0.318793          0.303201   \n",
       "\n",
       "   STATUS_ratio_CPI  TYPE_mean  Points_earned  Points_earned_mean  \n",
       "0          0.577831   0.611816       159255.0          570.806452  \n",
       "1          0.550618   0.611816       159255.0          570.806452  \n",
       "2          0.241320   0.611816       159255.0          570.806452  \n",
       "3          0.241320   0.611816       159255.0          570.806452  \n",
       "4          0.242436   0.611816       159255.0          570.806452  \n",
       "\n",
       "[5 rows x 30 columns]"
      ]
     },
     "execution_count": 30,
     "metadata": {},
     "output_type": "execute_result"
    }
   ],
   "source": [
    "X_train.head()"
   ]
  },
  {
   "cell_type": "code",
   "execution_count": 31,
   "id": "5d227410",
   "metadata": {
    "execution": {
     "iopub.execute_input": "2023-12-20T10:39:13.464023Z",
     "iopub.status.busy": "2023-12-20T10:39:13.463296Z",
     "iopub.status.idle": "2023-12-20T10:39:13.491309Z",
     "shell.execute_reply": "2023-12-20T10:39:13.490106Z"
    },
    "papermill": {
     "duration": 0.052799,
     "end_time": "2023-12-20T10:39:13.493758",
     "exception": false,
     "start_time": "2023-12-20T10:39:13.440959",
     "status": "completed"
    },
    "tags": []
   },
   "outputs": [
    {
     "data": {
      "text/html": [
       "<div>\n",
       "<style scoped>\n",
       "    .dataframe tbody tr th:only-of-type {\n",
       "        vertical-align: middle;\n",
       "    }\n",
       "\n",
       "    .dataframe tbody tr th {\n",
       "        vertical-align: top;\n",
       "    }\n",
       "\n",
       "    .dataframe thead th {\n",
       "        text-align: right;\n",
       "    }\n",
       "</style>\n",
       "<table border=\"1\" class=\"dataframe\">\n",
       "  <thead>\n",
       "    <tr style=\"text-align: right;\">\n",
       "      <th></th>\n",
       "      <th>userID</th>\n",
       "      <th>surveyID</th>\n",
       "      <th>BIRTH</th>\n",
       "      <th>GENDER</th>\n",
       "      <th>REGION</th>\n",
       "      <th>TYPE</th>\n",
       "      <th>SQ4</th>\n",
       "      <th>SQ5</th>\n",
       "      <th>SQ6</th>\n",
       "      <th>SQ7</th>\n",
       "      <th>...</th>\n",
       "      <th>CPI</th>\n",
       "      <th>RESRATE</th>\n",
       "      <th>RESRATE_s</th>\n",
       "      <th>RESRATE_c</th>\n",
       "      <th>STATUS_ratio_IR</th>\n",
       "      <th>STATUS_ratio_LOI</th>\n",
       "      <th>STATUS_ratio_CPI</th>\n",
       "      <th>TYPE_mean</th>\n",
       "      <th>Points_earned</th>\n",
       "      <th>Points_earned_mean</th>\n",
       "    </tr>\n",
       "  </thead>\n",
       "  <tbody>\n",
       "    <tr>\n",
       "      <th>0</th>\n",
       "      <td>p00000</td>\n",
       "      <td>s04875</td>\n",
       "      <td>1976.0</td>\n",
       "      <td>1.0</td>\n",
       "      <td>2.0</td>\n",
       "      <td>D</td>\n",
       "      <td>1</td>\n",
       "      <td>3</td>\n",
       "      <td>1</td>\n",
       "      <td>0</td>\n",
       "      <td>...</td>\n",
       "      <td>600.0</td>\n",
       "      <td>0.975524</td>\n",
       "      <td>0.281761</td>\n",
       "      <td>0.242436</td>\n",
       "      <td>0.318793</td>\n",
       "      <td>0.303201</td>\n",
       "      <td>0.242436</td>\n",
       "      <td>0.611816</td>\n",
       "      <td>159255.0</td>\n",
       "      <td>570.806452</td>\n",
       "    </tr>\n",
       "    <tr>\n",
       "      <th>1</th>\n",
       "      <td>p00000</td>\n",
       "      <td>s05133</td>\n",
       "      <td>1976.0</td>\n",
       "      <td>1.0</td>\n",
       "      <td>2.0</td>\n",
       "      <td>D</td>\n",
       "      <td>1</td>\n",
       "      <td>3</td>\n",
       "      <td>1</td>\n",
       "      <td>0</td>\n",
       "      <td>...</td>\n",
       "      <td>600.0</td>\n",
       "      <td>0.975524</td>\n",
       "      <td>0.267840</td>\n",
       "      <td>0.242436</td>\n",
       "      <td>0.318793</td>\n",
       "      <td>0.303201</td>\n",
       "      <td>0.242436</td>\n",
       "      <td>0.611816</td>\n",
       "      <td>159255.0</td>\n",
       "      <td>570.806452</td>\n",
       "    </tr>\n",
       "    <tr>\n",
       "      <th>2</th>\n",
       "      <td>p00000</td>\n",
       "      <td>s05864</td>\n",
       "      <td>1976.0</td>\n",
       "      <td>1.0</td>\n",
       "      <td>2.0</td>\n",
       "      <td>D</td>\n",
       "      <td>1</td>\n",
       "      <td>3</td>\n",
       "      <td>1</td>\n",
       "      <td>0</td>\n",
       "      <td>...</td>\n",
       "      <td>480.0</td>\n",
       "      <td>0.975524</td>\n",
       "      <td>0.224518</td>\n",
       "      <td>0.241320</td>\n",
       "      <td>0.318793</td>\n",
       "      <td>0.255609</td>\n",
       "      <td>0.241320</td>\n",
       "      <td>0.611816</td>\n",
       "      <td>159255.0</td>\n",
       "      <td>570.806452</td>\n",
       "    </tr>\n",
       "    <tr>\n",
       "      <th>3</th>\n",
       "      <td>p00000</td>\n",
       "      <td>s05865</td>\n",
       "      <td>1976.0</td>\n",
       "      <td>1.0</td>\n",
       "      <td>2.0</td>\n",
       "      <td>D</td>\n",
       "      <td>1</td>\n",
       "      <td>3</td>\n",
       "      <td>1</td>\n",
       "      <td>0</td>\n",
       "      <td>...</td>\n",
       "      <td>600.0</td>\n",
       "      <td>0.975524</td>\n",
       "      <td>0.242667</td>\n",
       "      <td>0.242436</td>\n",
       "      <td>0.318793</td>\n",
       "      <td>0.303201</td>\n",
       "      <td>0.242436</td>\n",
       "      <td>0.611816</td>\n",
       "      <td>159255.0</td>\n",
       "      <td>570.806452</td>\n",
       "    </tr>\n",
       "    <tr>\n",
       "      <th>4</th>\n",
       "      <td>p00000</td>\n",
       "      <td>s04778</td>\n",
       "      <td>1976.0</td>\n",
       "      <td>1.0</td>\n",
       "      <td>2.0</td>\n",
       "      <td>D</td>\n",
       "      <td>1</td>\n",
       "      <td>3</td>\n",
       "      <td>1</td>\n",
       "      <td>0</td>\n",
       "      <td>...</td>\n",
       "      <td>480.0</td>\n",
       "      <td>0.975524</td>\n",
       "      <td>0.263083</td>\n",
       "      <td>0.241320</td>\n",
       "      <td>0.318793</td>\n",
       "      <td>0.255609</td>\n",
       "      <td>0.241320</td>\n",
       "      <td>0.611816</td>\n",
       "      <td>159255.0</td>\n",
       "      <td>570.806452</td>\n",
       "    </tr>\n",
       "  </tbody>\n",
       "</table>\n",
       "<p>5 rows × 30 columns</p>\n",
       "</div>"
      ],
      "text/plain": [
       "   userID surveyID   BIRTH  GENDER  REGION TYPE  SQ4  SQ5  SQ6  SQ7  ...  \\\n",
       "0  p00000   s04875  1976.0     1.0     2.0    D    1    3    1    0  ...   \n",
       "1  p00000   s05133  1976.0     1.0     2.0    D    1    3    1    0  ...   \n",
       "2  p00000   s05864  1976.0     1.0     2.0    D    1    3    1    0  ...   \n",
       "3  p00000   s05865  1976.0     1.0     2.0    D    1    3    1    0  ...   \n",
       "4  p00000   s04778  1976.0     1.0     2.0    D    1    3    1    0  ...   \n",
       "\n",
       "     CPI   RESRATE  RESRATE_s  RESRATE_c  STATUS_ratio_IR  STATUS_ratio_LOI  \\\n",
       "0  600.0  0.975524   0.281761   0.242436         0.318793          0.303201   \n",
       "1  600.0  0.975524   0.267840   0.242436         0.318793          0.303201   \n",
       "2  480.0  0.975524   0.224518   0.241320         0.318793          0.255609   \n",
       "3  600.0  0.975524   0.242667   0.242436         0.318793          0.303201   \n",
       "4  480.0  0.975524   0.263083   0.241320         0.318793          0.255609   \n",
       "\n",
       "   STATUS_ratio_CPI  TYPE_mean  Points_earned  Points_earned_mean  \n",
       "0          0.242436   0.611816       159255.0          570.806452  \n",
       "1          0.242436   0.611816       159255.0          570.806452  \n",
       "2          0.241320   0.611816       159255.0          570.806452  \n",
       "3          0.242436   0.611816       159255.0          570.806452  \n",
       "4          0.241320   0.611816       159255.0          570.806452  \n",
       "\n",
       "[5 rows x 30 columns]"
      ]
     },
     "execution_count": 31,
     "metadata": {},
     "output_type": "execute_result"
    }
   ],
   "source": [
    "X_test.head()"
   ]
  },
  {
   "cell_type": "markdown",
   "id": "f879a2a8",
   "metadata": {
    "papermill": {
     "duration": 0.020627,
     "end_time": "2023-12-20T10:39:13.535902",
     "exception": false,
     "start_time": "2023-12-20T10:39:13.515275",
     "status": "completed"
    },
    "tags": []
   },
   "source": [
    "### Feature Engineering"
   ]
  },
  {
   "cell_type": "markdown",
   "id": "ddb0c200",
   "metadata": {
    "papermill": {
     "duration": 0.021081,
     "end_time": "2023-12-20T10:39:13.577921",
     "exception": false,
     "start_time": "2023-12-20T10:39:13.556840",
     "status": "completed"
    },
    "tags": []
   },
   "source": [
    "##### Impute missing values"
   ]
  },
  {
   "cell_type": "code",
   "execution_count": 32,
   "id": "e9faa9b2",
   "metadata": {
    "execution": {
     "iopub.execute_input": "2023-12-20T10:39:13.622455Z",
     "iopub.status.busy": "2023-12-20T10:39:13.621684Z",
     "iopub.status.idle": "2023-12-20T10:39:20.007694Z",
     "shell.execute_reply": "2023-12-20T10:39:20.006486Z"
    },
    "papermill": {
     "duration": 6.411893,
     "end_time": "2023-12-20T10:39:20.010635",
     "exception": false,
     "start_time": "2023-12-20T10:39:13.598742",
     "status": "completed"
    },
    "tags": []
   },
   "outputs": [],
   "source": [
    "# 결측값 처리: 범주형이냐 수치형이냐에 따라 다르게 처리\n",
    "if len(num_features) > 0:\n",
    "    imp = SimpleImputer(strategy='mean')\n",
    "    X_train[num_features] = imp.fit_transform(X_train[num_features])\n",
    "    X_test[num_features] = imp.transform(X_test[num_features])\n",
    "if len(cat_features) > 0:  \n",
    "    imp = SimpleImputer(strategy=\"most_frequent\")\n",
    "    X_train[cat_features] = imp.fit_transform(X_train[cat_features])\n",
    "    X_test[cat_features] = imp.transform(X_test[cat_features])"
   ]
  },
  {
   "cell_type": "code",
   "execution_count": 33,
   "id": "836a014f",
   "metadata": {
    "execution": {
     "iopub.execute_input": "2023-12-20T10:39:20.055126Z",
     "iopub.status.busy": "2023-12-20T10:39:20.054469Z",
     "iopub.status.idle": "2023-12-20T10:39:20.371186Z",
     "shell.execute_reply": "2023-12-20T10:39:20.369653Z"
    },
    "papermill": {
     "duration": 0.342328,
     "end_time": "2023-12-20T10:39:20.374054",
     "exception": false,
     "start_time": "2023-12-20T10:39:20.031726",
     "status": "completed"
    },
    "tags": []
   },
   "outputs": [],
   "source": [
    "# gender와 region의 값을 실수에서 정수로 변경\n",
    "X_train['GENDER'] = X_train['GENDER'].astype(int)\n",
    "X_train['REGION'] = X_train['REGION'].astype(int)\n",
    "X_test['GENDER'] = X_test['GENDER'].astype(int)\n",
    "X_test['REGION'] = X_test['REGION'].astype(int)"
   ]
  },
  {
   "cell_type": "code",
   "execution_count": 34,
   "id": "181615f9",
   "metadata": {
    "execution": {
     "iopub.execute_input": "2023-12-20T10:39:20.418886Z",
     "iopub.status.busy": "2023-12-20T10:39:20.418432Z",
     "iopub.status.idle": "2023-12-20T10:39:20.423411Z",
     "shell.execute_reply": "2023-12-20T10:39:20.422165Z"
    },
    "papermill": {
     "duration": 0.029974,
     "end_time": "2023-12-20T10:39:20.425711",
     "exception": false,
     "start_time": "2023-12-20T10:39:20.395737",
     "status": "completed"
    },
    "tags": []
   },
   "outputs": [],
   "source": [
    "# 전처리 파일 저장\n",
    "# X_train.to_csv('X_train_pre.csv',index=False)\n",
    "# X_test.to_csv('X_test_pre.csv',index=False)"
   ]
  },
  {
   "cell_type": "code",
   "execution_count": 35,
   "id": "7eabf253",
   "metadata": {
    "execution": {
     "iopub.execute_input": "2023-12-20T10:39:20.470815Z",
     "iopub.status.busy": "2023-12-20T10:39:20.470378Z",
     "iopub.status.idle": "2023-12-20T10:39:20.475455Z",
     "shell.execute_reply": "2023-12-20T10:39:20.474263Z"
    },
    "papermill": {
     "duration": 0.03084,
     "end_time": "2023-12-20T10:39:20.477977",
     "exception": false,
     "start_time": "2023-12-20T10:39:20.447137",
     "status": "completed"
    },
    "tags": []
   },
   "outputs": [],
   "source": [
    "# 여기까지 스케일러전까지 전처리 완료파일"
   ]
  },
  {
   "cell_type": "markdown",
   "id": "ce785a9d",
   "metadata": {
    "papermill": {
     "duration": 0.020974,
     "end_time": "2023-12-20T10:39:20.520336",
     "exception": false,
     "start_time": "2023-12-20T10:39:20.499362",
     "status": "completed"
    },
    "tags": []
   },
   "source": [
    "##### Transform features (Feature Scaling)"
   ]
  },
  {
   "cell_type": "code",
   "execution_count": 36,
   "id": "4dcd5181",
   "metadata": {
    "execution": {
     "iopub.execute_input": "2023-12-20T10:39:20.565626Z",
     "iopub.status.busy": "2023-12-20T10:39:20.565131Z",
     "iopub.status.idle": "2023-12-20T10:39:21.000257Z",
     "shell.execute_reply": "2023-12-20T10:39:20.998748Z"
    },
    "papermill": {
     "duration": 0.462333,
     "end_time": "2023-12-20T10:39:21.004263",
     "exception": false,
     "start_time": "2023-12-20T10:39:20.541930",
     "status": "completed"
    },
    "tags": []
   },
   "outputs": [],
   "source": [
    "scaler = StandardScaler()\n",
    "X_train[num_features] = scaler.fit_transform(X_train[num_features])\n",
    "X_test[num_features] = scaler.transform(X_test[num_features])"
   ]
  },
  {
   "cell_type": "markdown",
   "id": "10a82b16",
   "metadata": {
    "papermill": {
     "duration": 0.021062,
     "end_time": "2023-12-20T10:39:21.046735",
     "exception": false,
     "start_time": "2023-12-20T10:39:21.025673",
     "status": "completed"
    },
    "tags": []
   },
   "source": [
    "##### Encode categorical features"
   ]
  },
  {
   "cell_type": "code",
   "execution_count": 37,
   "id": "c9ca928b",
   "metadata": {
    "execution": {
     "iopub.execute_input": "2023-12-20T10:39:21.091902Z",
     "iopub.status.busy": "2023-12-20T10:39:21.091158Z",
     "iopub.status.idle": "2023-12-20T10:39:28.199339Z",
     "shell.execute_reply": "2023-12-20T10:39:28.198270Z"
    },
    "papermill": {
     "duration": 7.134554,
     "end_time": "2023-12-20T10:39:28.202648",
     "exception": false,
     "start_time": "2023-12-20T10:39:21.068094",
     "status": "completed"
    },
    "tags": []
   },
   "outputs": [],
   "source": [
    "le = OrdinalEncoder(handle_unknown='use_encoded_value', unknown_value=-1, dtype=int)\n",
    "X_train[cat_features] = le.fit_transform(X_train[cat_features])\n",
    "X_test[cat_features] = le.transform(X_test[cat_features])"
   ]
  },
  {
   "cell_type": "markdown",
   "id": "435d44eb",
   "metadata": {
    "papermill": {
     "duration": 0.030011,
     "end_time": "2023-12-20T10:39:28.263485",
     "exception": false,
     "start_time": "2023-12-20T10:39:28.233474",
     "status": "completed"
    },
    "tags": []
   },
   "source": [
    "데이터 설명\n",
    "- **패널(Panel) 데이터**\n",
    "  - userID: 패널 ID\n",
    "  - BIRTH: 생일(연도)\n",
    "  - GENDER: 1(남자) 2(여자)\n",
    "  - REGION: 거주지역\n",
    "  - TYPE: 패널 구분\n",
    "  - SQ1 ~ DQ7: 패널 가입 시 설문한 데이터로 각 필드에 대해서는 [상세설명](https://docs.google.com/spreadsheets/d/1pY6MYTSkyHrGLmMTU8tX_xlD8fPut6Ob/edit?usp=sharing&ouid=107121563618260277687&rtpof=true&sd=true) 참조\n",
    "- **설문(Survey) 데이터**\n",
    "  - surveyID: 설문 ID\n",
    "  - TITLE: 설문 제목\n",
    "  - IR: 난이도(응답가능성, 100이 최고)\n",
    "  - LOI: 설문하는데 걸리는 시간 (분단위)\n",
    "  - CATEGORIES: 설문 분류\n",
    "  - CPI: 패널 응답 리워드 포인트(1P~)\n",
    "- **응답(Response) 데이터**\n",
    "  - STATUS: 응답여부 (Target)\n",
    "  - (test 데이터의) ID: submission을 식별하기 위한 ID로 사용"
   ]
  },
  {
   "cell_type": "code",
   "execution_count": 38,
   "id": "2b858d61",
   "metadata": {
    "execution": {
     "iopub.execute_input": "2023-12-20T10:39:28.352544Z",
     "iopub.status.busy": "2023-12-20T10:39:28.352157Z",
     "iopub.status.idle": "2023-12-20T10:39:28.614701Z",
     "shell.execute_reply": "2023-12-20T10:39:28.613473Z"
    },
    "papermill": {
     "duration": 0.2887,
     "end_time": "2023-12-20T10:39:28.617803",
     "exception": false,
     "start_time": "2023-12-20T10:39:28.329103",
     "status": "completed"
    },
    "tags": []
   },
   "outputs": [
    {
     "data": {
      "text/html": [
       "<div>\n",
       "<style scoped>\n",
       "    .dataframe tbody tr th:only-of-type {\n",
       "        vertical-align: middle;\n",
       "    }\n",
       "\n",
       "    .dataframe tbody tr th {\n",
       "        vertical-align: top;\n",
       "    }\n",
       "\n",
       "    .dataframe thead th {\n",
       "        text-align: right;\n",
       "    }\n",
       "</style>\n",
       "<table border=\"1\" class=\"dataframe\">\n",
       "  <thead>\n",
       "    <tr style=\"text-align: right;\">\n",
       "      <th></th>\n",
       "      <th>userID</th>\n",
       "      <th>surveyID</th>\n",
       "      <th>BIRTH</th>\n",
       "      <th>GENDER</th>\n",
       "      <th>REGION</th>\n",
       "      <th>TYPE</th>\n",
       "      <th>SQ4</th>\n",
       "      <th>SQ5</th>\n",
       "      <th>SQ6</th>\n",
       "      <th>SQ7</th>\n",
       "      <th>...</th>\n",
       "      <th>CPI</th>\n",
       "      <th>RESRATE</th>\n",
       "      <th>RESRATE_s</th>\n",
       "      <th>RESRATE_c</th>\n",
       "      <th>STATUS_ratio_IR</th>\n",
       "      <th>STATUS_ratio_LOI</th>\n",
       "      <th>STATUS_ratio_CPI</th>\n",
       "      <th>TYPE_mean</th>\n",
       "      <th>Points_earned</th>\n",
       "      <th>Points_earned_mean</th>\n",
       "    </tr>\n",
       "  </thead>\n",
       "  <tbody>\n",
       "    <tr>\n",
       "      <th>0</th>\n",
       "      <td>0</td>\n",
       "      <td>218</td>\n",
       "      <td>-0.329418</td>\n",
       "      <td>0</td>\n",
       "      <td>0</td>\n",
       "      <td>2</td>\n",
       "      <td>1</td>\n",
       "      <td>3</td>\n",
       "      <td>1</td>\n",
       "      <td>0</td>\n",
       "      <td>...</td>\n",
       "      <td>-0.022516</td>\n",
       "      <td>1.690174</td>\n",
       "      <td>-0.520307</td>\n",
       "      <td>-0.858439</td>\n",
       "      <td>-0.638959</td>\n",
       "      <td>-0.588657</td>\n",
       "      <td>-0.858439</td>\n",
       "      <td>1.062459</td>\n",
       "      <td>8.342671</td>\n",
       "      <td>0.340074</td>\n",
       "    </tr>\n",
       "    <tr>\n",
       "      <th>1</th>\n",
       "      <td>0</td>\n",
       "      <td>472</td>\n",
       "      <td>-0.329418</td>\n",
       "      <td>0</td>\n",
       "      <td>0</td>\n",
       "      <td>2</td>\n",
       "      <td>1</td>\n",
       "      <td>3</td>\n",
       "      <td>1</td>\n",
       "      <td>0</td>\n",
       "      <td>...</td>\n",
       "      <td>-0.022516</td>\n",
       "      <td>1.690174</td>\n",
       "      <td>-0.587809</td>\n",
       "      <td>-0.858439</td>\n",
       "      <td>-0.638959</td>\n",
       "      <td>-0.588657</td>\n",
       "      <td>-0.858439</td>\n",
       "      <td>1.062459</td>\n",
       "      <td>8.342671</td>\n",
       "      <td>0.340074</td>\n",
       "    </tr>\n",
       "    <tr>\n",
       "      <th>2</th>\n",
       "      <td>0</td>\n",
       "      <td>1188</td>\n",
       "      <td>-0.329418</td>\n",
       "      <td>0</td>\n",
       "      <td>0</td>\n",
       "      <td>2</td>\n",
       "      <td>1</td>\n",
       "      <td>3</td>\n",
       "      <td>1</td>\n",
       "      <td>0</td>\n",
       "      <td>...</td>\n",
       "      <td>-0.431816</td>\n",
       "      <td>1.690174</td>\n",
       "      <td>-0.797867</td>\n",
       "      <td>-0.864970</td>\n",
       "      <td>-0.638959</td>\n",
       "      <td>-0.914925</td>\n",
       "      <td>-0.864970</td>\n",
       "      <td>1.062459</td>\n",
       "      <td>8.342671</td>\n",
       "      <td>0.340074</td>\n",
       "    </tr>\n",
       "    <tr>\n",
       "      <th>3</th>\n",
       "      <td>0</td>\n",
       "      <td>1189</td>\n",
       "      <td>-0.329418</td>\n",
       "      <td>0</td>\n",
       "      <td>0</td>\n",
       "      <td>2</td>\n",
       "      <td>1</td>\n",
       "      <td>3</td>\n",
       "      <td>1</td>\n",
       "      <td>0</td>\n",
       "      <td>...</td>\n",
       "      <td>-0.022516</td>\n",
       "      <td>1.690174</td>\n",
       "      <td>-0.709867</td>\n",
       "      <td>-0.858439</td>\n",
       "      <td>-0.638959</td>\n",
       "      <td>-0.588657</td>\n",
       "      <td>-0.858439</td>\n",
       "      <td>1.062459</td>\n",
       "      <td>8.342671</td>\n",
       "      <td>0.340074</td>\n",
       "    </tr>\n",
       "    <tr>\n",
       "      <th>4</th>\n",
       "      <td>0</td>\n",
       "      <td>121</td>\n",
       "      <td>-0.329418</td>\n",
       "      <td>0</td>\n",
       "      <td>0</td>\n",
       "      <td>2</td>\n",
       "      <td>1</td>\n",
       "      <td>3</td>\n",
       "      <td>1</td>\n",
       "      <td>0</td>\n",
       "      <td>...</td>\n",
       "      <td>-0.431816</td>\n",
       "      <td>1.690174</td>\n",
       "      <td>-0.610871</td>\n",
       "      <td>-0.864970</td>\n",
       "      <td>-0.638959</td>\n",
       "      <td>-0.914925</td>\n",
       "      <td>-0.864970</td>\n",
       "      <td>1.062459</td>\n",
       "      <td>8.342671</td>\n",
       "      <td>0.340074</td>\n",
       "    </tr>\n",
       "    <tr>\n",
       "      <th>...</th>\n",
       "      <td>...</td>\n",
       "      <td>...</td>\n",
       "      <td>...</td>\n",
       "      <td>...</td>\n",
       "      <td>...</td>\n",
       "      <td>...</td>\n",
       "      <td>...</td>\n",
       "      <td>...</td>\n",
       "      <td>...</td>\n",
       "      <td>...</td>\n",
       "      <td>...</td>\n",
       "      <td>...</td>\n",
       "      <td>...</td>\n",
       "      <td>...</td>\n",
       "      <td>...</td>\n",
       "      <td>...</td>\n",
       "      <td>...</td>\n",
       "      <td>...</td>\n",
       "      <td>...</td>\n",
       "      <td>...</td>\n",
       "      <td>...</td>\n",
       "    </tr>\n",
       "    <tr>\n",
       "      <th>541862</th>\n",
       "      <td>15154</td>\n",
       "      <td>521</td>\n",
       "      <td>0.244014</td>\n",
       "      <td>0</td>\n",
       "      <td>3</td>\n",
       "      <td>2</td>\n",
       "      <td>4</td>\n",
       "      <td>1</td>\n",
       "      <td>1</td>\n",
       "      <td>18</td>\n",
       "      <td>...</td>\n",
       "      <td>-0.022516</td>\n",
       "      <td>0.113850</td>\n",
       "      <td>-0.421698</td>\n",
       "      <td>-0.858439</td>\n",
       "      <td>-0.638959</td>\n",
       "      <td>-0.588657</td>\n",
       "      <td>-0.858439</td>\n",
       "      <td>1.062459</td>\n",
       "      <td>-0.379283</td>\n",
       "      <td>0.384736</td>\n",
       "    </tr>\n",
       "    <tr>\n",
       "      <th>541863</th>\n",
       "      <td>15154</td>\n",
       "      <td>697</td>\n",
       "      <td>0.244014</td>\n",
       "      <td>0</td>\n",
       "      <td>3</td>\n",
       "      <td>2</td>\n",
       "      <td>4</td>\n",
       "      <td>1</td>\n",
       "      <td>1</td>\n",
       "      <td>18</td>\n",
       "      <td>...</td>\n",
       "      <td>0.744921</td>\n",
       "      <td>0.113850</td>\n",
       "      <td>0.245085</td>\n",
       "      <td>0.865720</td>\n",
       "      <td>0.459579</td>\n",
       "      <td>-0.588657</td>\n",
       "      <td>0.865720</td>\n",
       "      <td>1.062459</td>\n",
       "      <td>-0.379283</td>\n",
       "      <td>0.384736</td>\n",
       "    </tr>\n",
       "    <tr>\n",
       "      <th>541864</th>\n",
       "      <td>15154</td>\n",
       "      <td>402</td>\n",
       "      <td>0.244014</td>\n",
       "      <td>0</td>\n",
       "      <td>3</td>\n",
       "      <td>2</td>\n",
       "      <td>4</td>\n",
       "      <td>1</td>\n",
       "      <td>1</td>\n",
       "      <td>18</td>\n",
       "      <td>...</td>\n",
       "      <td>-0.431816</td>\n",
       "      <td>0.113850</td>\n",
       "      <td>-0.536594</td>\n",
       "      <td>-0.864970</td>\n",
       "      <td>-0.638959</td>\n",
       "      <td>-0.914925</td>\n",
       "      <td>-0.864970</td>\n",
       "      <td>1.062459</td>\n",
       "      <td>-0.379283</td>\n",
       "      <td>0.384736</td>\n",
       "    </tr>\n",
       "    <tr>\n",
       "      <th>541865</th>\n",
       "      <td>15154</td>\n",
       "      <td>512</td>\n",
       "      <td>0.244014</td>\n",
       "      <td>0</td>\n",
       "      <td>3</td>\n",
       "      <td>2</td>\n",
       "      <td>4</td>\n",
       "      <td>1</td>\n",
       "      <td>1</td>\n",
       "      <td>18</td>\n",
       "      <td>...</td>\n",
       "      <td>-0.022516</td>\n",
       "      <td>0.113850</td>\n",
       "      <td>-0.824808</td>\n",
       "      <td>-0.858439</td>\n",
       "      <td>-0.638959</td>\n",
       "      <td>-0.588657</td>\n",
       "      <td>-0.858439</td>\n",
       "      <td>1.062459</td>\n",
       "      <td>-0.379283</td>\n",
       "      <td>0.384736</td>\n",
       "    </tr>\n",
       "    <tr>\n",
       "      <th>541866</th>\n",
       "      <td>15154</td>\n",
       "      <td>916</td>\n",
       "      <td>0.244014</td>\n",
       "      <td>0</td>\n",
       "      <td>3</td>\n",
       "      <td>2</td>\n",
       "      <td>4</td>\n",
       "      <td>1</td>\n",
       "      <td>1</td>\n",
       "      <td>18</td>\n",
       "      <td>...</td>\n",
       "      <td>3.558857</td>\n",
       "      <td>0.113850</td>\n",
       "      <td>0.775210</td>\n",
       "      <td>1.069551</td>\n",
       "      <td>1.204179</td>\n",
       "      <td>1.355104</td>\n",
       "      <td>1.069551</td>\n",
       "      <td>1.062459</td>\n",
       "      <td>-0.379283</td>\n",
       "      <td>0.384736</td>\n",
       "    </tr>\n",
       "  </tbody>\n",
       "</table>\n",
       "<p>541867 rows × 30 columns</p>\n",
       "</div>"
      ],
      "text/plain": [
       "        userID  surveyID     BIRTH  GENDER  REGION  TYPE  SQ4  SQ5  SQ6  SQ7  \\\n",
       "0            0       218 -0.329418       0       0     2    1    3    1    0   \n",
       "1            0       472 -0.329418       0       0     2    1    3    1    0   \n",
       "2            0      1188 -0.329418       0       0     2    1    3    1    0   \n",
       "3            0      1189 -0.329418       0       0     2    1    3    1    0   \n",
       "4            0       121 -0.329418       0       0     2    1    3    1    0   \n",
       "...        ...       ...       ...     ...     ...   ...  ...  ...  ...  ...   \n",
       "541862   15154       521  0.244014       0       3     2    4    1    1   18   \n",
       "541863   15154       697  0.244014       0       3     2    4    1    1   18   \n",
       "541864   15154       402  0.244014       0       3     2    4    1    1   18   \n",
       "541865   15154       512  0.244014       0       3     2    4    1    1   18   \n",
       "541866   15154       916  0.244014       0       3     2    4    1    1   18   \n",
       "\n",
       "        ...       CPI   RESRATE  RESRATE_s  RESRATE_c  STATUS_ratio_IR  \\\n",
       "0       ... -0.022516  1.690174  -0.520307  -0.858439        -0.638959   \n",
       "1       ... -0.022516  1.690174  -0.587809  -0.858439        -0.638959   \n",
       "2       ... -0.431816  1.690174  -0.797867  -0.864970        -0.638959   \n",
       "3       ... -0.022516  1.690174  -0.709867  -0.858439        -0.638959   \n",
       "4       ... -0.431816  1.690174  -0.610871  -0.864970        -0.638959   \n",
       "...     ...       ...       ...        ...        ...              ...   \n",
       "541862  ... -0.022516  0.113850  -0.421698  -0.858439        -0.638959   \n",
       "541863  ...  0.744921  0.113850   0.245085   0.865720         0.459579   \n",
       "541864  ... -0.431816  0.113850  -0.536594  -0.864970        -0.638959   \n",
       "541865  ... -0.022516  0.113850  -0.824808  -0.858439        -0.638959   \n",
       "541866  ...  3.558857  0.113850   0.775210   1.069551         1.204179   \n",
       "\n",
       "        STATUS_ratio_LOI  STATUS_ratio_CPI  TYPE_mean  Points_earned  \\\n",
       "0              -0.588657         -0.858439   1.062459       8.342671   \n",
       "1              -0.588657         -0.858439   1.062459       8.342671   \n",
       "2              -0.914925         -0.864970   1.062459       8.342671   \n",
       "3              -0.588657         -0.858439   1.062459       8.342671   \n",
       "4              -0.914925         -0.864970   1.062459       8.342671   \n",
       "...                  ...               ...        ...            ...   \n",
       "541862         -0.588657         -0.858439   1.062459      -0.379283   \n",
       "541863         -0.588657          0.865720   1.062459      -0.379283   \n",
       "541864         -0.914925         -0.864970   1.062459      -0.379283   \n",
       "541865         -0.588657         -0.858439   1.062459      -0.379283   \n",
       "541866          1.355104          1.069551   1.062459      -0.379283   \n",
       "\n",
       "        Points_earned_mean  \n",
       "0                 0.340074  \n",
       "1                 0.340074  \n",
       "2                 0.340074  \n",
       "3                 0.340074  \n",
       "4                 0.340074  \n",
       "...                    ...  \n",
       "541862            0.384736  \n",
       "541863            0.384736  \n",
       "541864            0.384736  \n",
       "541865            0.384736  \n",
       "541866            0.384736  \n",
       "\n",
       "[541867 rows x 30 columns]"
      ]
     },
     "execution_count": 38,
     "metadata": {},
     "output_type": "execute_result"
    }
   ],
   "source": [
    "X_test"
   ]
  },
  {
   "cell_type": "code",
   "execution_count": 39,
   "id": "06f3305d",
   "metadata": {
    "execution": {
     "iopub.execute_input": "2023-12-20T10:39:28.666807Z",
     "iopub.status.busy": "2023-12-20T10:39:28.666428Z",
     "iopub.status.idle": "2023-12-20T10:42:36.970422Z",
     "shell.execute_reply": "2023-12-20T10:42:36.969151Z"
    },
    "papermill": {
     "duration": 188.330481,
     "end_time": "2023-12-20T10:42:36.973081",
     "exception": false,
     "start_time": "2023-12-20T10:39:28.642600",
     "status": "completed"
    },
    "tags": []
   },
   "outputs": [
    {
     "name": "stdout",
     "output_type": "stream",
     "text": [
      "[LightGBM] [Info] Number of positive: 316565, number of negative: 497085\n",
      "[LightGBM] [Info] Auto-choosing row-wise multi-threading, the overhead of testing was 0.178611 seconds.\n",
      "You can set `force_row_wise=true` to remove the overhead.\n",
      "And if memory is not enough, you can set `force_col_wise=true`.\n",
      "[LightGBM] [Info] Total Bins 2043\n",
      "[LightGBM] [Info] Number of data points in the train set: 813650, number of used features: 30\n",
      "[LightGBM] [Info] [binary:BoostFromScore]: pavg=0.389068 -> initscore=-0.451232\n",
      "[LightGBM] [Info] Start training from score -0.451232\n"
     ]
    },
    {
     "data": {
      "image/png": "[encoded data removed]",
      "text/plain": [
       "<Figure size 800x950 with 1 Axes>"
      ]
     },
     "metadata": {},
     "output_type": "display_data"
    },
    {
     "data": {
      "text/html": [
       "<div>\n",
       "<style scoped>\n",
       "    .dataframe tbody tr th:only-of-type {\n",
       "        vertical-align: middle;\n",
       "    }\n",
       "\n",
       "    .dataframe tbody tr th {\n",
       "        vertical-align: top;\n",
       "    }\n",
       "\n",
       "    .dataframe thead th {\n",
       "        text-align: right;\n",
       "    }\n",
       "</style>\n",
       "<table border=\"1\" class=\"dataframe\">\n",
       "  <thead>\n",
       "    <tr style=\"text-align: right;\">\n",
       "      <th></th>\n",
       "      <th>column_name</th>\n",
       "      <th>shap_importance</th>\n",
       "    </tr>\n",
       "  </thead>\n",
       "  <tbody>\n",
       "    <tr>\n",
       "      <th>21</th>\n",
       "      <td>RESRATE</td>\n",
       "      <td>3.863819</td>\n",
       "    </tr>\n",
       "    <tr>\n",
       "      <th>22</th>\n",
       "      <td>RESRATE_s</td>\n",
       "      <td>0.512252</td>\n",
       "    </tr>\n",
       "    <tr>\n",
       "      <th>17</th>\n",
       "      <td>TITLE</td>\n",
       "      <td>0.134367</td>\n",
       "    </tr>\n",
       "    <tr>\n",
       "      <th>28</th>\n",
       "      <td>Points_earned</td>\n",
       "      <td>0.093577</td>\n",
       "    </tr>\n",
       "    <tr>\n",
       "      <th>29</th>\n",
       "      <td>Points_earned_mean</td>\n",
       "      <td>0.074954</td>\n",
       "    </tr>\n",
       "    <tr>\n",
       "      <th>5</th>\n",
       "      <td>TYPE</td>\n",
       "      <td>0.059451</td>\n",
       "    </tr>\n",
       "    <tr>\n",
       "      <th>1</th>\n",
       "      <td>surveyID</td>\n",
       "      <td>0.048171</td>\n",
       "    </tr>\n",
       "    <tr>\n",
       "      <th>23</th>\n",
       "      <td>RESRATE_c</td>\n",
       "      <td>0.038542</td>\n",
       "    </tr>\n",
       "    <tr>\n",
       "      <th>20</th>\n",
       "      <td>CPI</td>\n",
       "      <td>0.033925</td>\n",
       "    </tr>\n",
       "    <tr>\n",
       "      <th>27</th>\n",
       "      <td>TYPE_mean</td>\n",
       "      <td>0.031521</td>\n",
       "    </tr>\n",
       "    <tr>\n",
       "      <th>25</th>\n",
       "      <td>STATUS_ratio_LOI</td>\n",
       "      <td>0.0242</td>\n",
       "    </tr>\n",
       "    <tr>\n",
       "      <th>18</th>\n",
       "      <td>IR</td>\n",
       "      <td>0.02224</td>\n",
       "    </tr>\n",
       "    <tr>\n",
       "      <th>4</th>\n",
       "      <td>REGION</td>\n",
       "      <td>0.020302</td>\n",
       "    </tr>\n",
       "    <tr>\n",
       "      <th>19</th>\n",
       "      <td>LOI</td>\n",
       "      <td>0.017265</td>\n",
       "    </tr>\n",
       "    <tr>\n",
       "      <th>0</th>\n",
       "      <td>userID</td>\n",
       "      <td>0.016713</td>\n",
       "    </tr>\n",
       "    <tr>\n",
       "      <th>3</th>\n",
       "      <td>GENDER</td>\n",
       "      <td>0.015255</td>\n",
       "    </tr>\n",
       "    <tr>\n",
       "      <th>2</th>\n",
       "      <td>BIRTH</td>\n",
       "      <td>0.012981</td>\n",
       "    </tr>\n",
       "    <tr>\n",
       "      <th>24</th>\n",
       "      <td>STATUS_ratio_IR</td>\n",
       "      <td>0.011738</td>\n",
       "    </tr>\n",
       "    <tr>\n",
       "      <th>11</th>\n",
       "      <td>A1</td>\n",
       "      <td>0.002144</td>\n",
       "    </tr>\n",
       "    <tr>\n",
       "      <th>16</th>\n",
       "      <td>B5</td>\n",
       "      <td>0.002049</td>\n",
       "    </tr>\n",
       "    <tr>\n",
       "      <th>15</th>\n",
       "      <td>B4</td>\n",
       "      <td>0.001159</td>\n",
       "    </tr>\n",
       "    <tr>\n",
       "      <th>9</th>\n",
       "      <td>SQ7</td>\n",
       "      <td>0.000986</td>\n",
       "    </tr>\n",
       "    <tr>\n",
       "      <th>10</th>\n",
       "      <td>SQ8</td>\n",
       "      <td>0.00095</td>\n",
       "    </tr>\n",
       "    <tr>\n",
       "      <th>12</th>\n",
       "      <td>B1</td>\n",
       "      <td>0.000925</td>\n",
       "    </tr>\n",
       "    <tr>\n",
       "      <th>6</th>\n",
       "      <td>SQ4</td>\n",
       "      <td>0.000469</td>\n",
       "    </tr>\n",
       "    <tr>\n",
       "      <th>7</th>\n",
       "      <td>SQ5</td>\n",
       "      <td>0.000275</td>\n",
       "    </tr>\n",
       "    <tr>\n",
       "      <th>14</th>\n",
       "      <td>B3</td>\n",
       "      <td>0.00027</td>\n",
       "    </tr>\n",
       "    <tr>\n",
       "      <th>13</th>\n",
       "      <td>B2</td>\n",
       "      <td>0.000165</td>\n",
       "    </tr>\n",
       "    <tr>\n",
       "      <th>8</th>\n",
       "      <td>SQ6</td>\n",
       "      <td>0.000079</td>\n",
       "    </tr>\n",
       "    <tr>\n",
       "      <th>26</th>\n",
       "      <td>STATUS_ratio_CPI</td>\n",
       "      <td>0.0</td>\n",
       "    </tr>\n",
       "  </tbody>\n",
       "</table>\n",
       "</div>"
      ],
      "text/plain": [
       "           column_name shap_importance\n",
       "21             RESRATE        3.863819\n",
       "22           RESRATE_s        0.512252\n",
       "17               TITLE        0.134367\n",
       "28       Points_earned        0.093577\n",
       "29  Points_earned_mean        0.074954\n",
       "5                 TYPE        0.059451\n",
       "1             surveyID        0.048171\n",
       "23           RESRATE_c        0.038542\n",
       "20                 CPI        0.033925\n",
       "27           TYPE_mean        0.031521\n",
       "25    STATUS_ratio_LOI          0.0242\n",
       "18                  IR         0.02224\n",
       "4               REGION        0.020302\n",
       "19                 LOI        0.017265\n",
       "0               userID        0.016713\n",
       "3               GENDER        0.015255\n",
       "2                BIRTH        0.012981\n",
       "24     STATUS_ratio_IR        0.011738\n",
       "11                  A1        0.002144\n",
       "16                  B5        0.002049\n",
       "15                  B4        0.001159\n",
       "9                  SQ7        0.000986\n",
       "10                 SQ8         0.00095\n",
       "12                  B1        0.000925\n",
       "6                  SQ4        0.000469\n",
       "7                  SQ5        0.000275\n",
       "14                  B3         0.00027\n",
       "13                  B2        0.000165\n",
       "8                  SQ6        0.000079\n",
       "26    STATUS_ratio_CPI             0.0"
      ]
     },
     "execution_count": 39,
     "metadata": {},
     "output_type": "execute_result"
    }
   ],
   "source": [
    "# FEATURE SELECTION\n",
    "import shap \n",
    "X_importance = X_test\n",
    "\n",
    "model = LGBMClassifier(random_state=1000).fit(X_train, y_train)\n",
    "explainer = shap.TreeExplainer(model)\n",
    "shap_values = explainer.shap_values(X_importance)\n",
    "\n",
    "shap.summary_plot(shap_values, X_importance, plot_type='bar')\n",
    "\n",
    "shap_sum = np.abs(shap_values).mean(axis=1)[1,:]\n",
    "importance_df = pd.DataFrame([X_importance.columns.tolist(), shap_sum.tolist()]).T\n",
    "importance_df.columns = ['column_name', 'shap_importance']\n",
    "importance_df = importance_df.sort_values('shap_importance', ascending=False)\n",
    "importance_df"
   ]
  },
  {
   "cell_type": "code",
   "execution_count": 40,
   "id": "79f2259e",
   "metadata": {
    "execution": {
     "iopub.execute_input": "2023-12-20T10:42:37.023260Z",
     "iopub.status.busy": "2023-12-20T10:42:37.022051Z",
     "iopub.status.idle": "2023-12-20T10:42:37.188066Z",
     "shell.execute_reply": "2023-12-20T10:42:37.186859Z"
    },
    "papermill": {
     "duration": 0.193771,
     "end_time": "2023-12-20T10:42:37.190695",
     "exception": false,
     "start_time": "2023-12-20T10:42:36.996924",
     "status": "completed"
    },
    "tags": []
   },
   "outputs": [
    {
     "name": "stdout",
     "output_type": "stream",
     "text": [
      "(813650, 21)\n"
     ]
    }
   ],
   "source": [
    "# 지정된(SHAP_THRESHOLD) Shap feature 중요도 이상인 것만 선택\n",
    "SHAP_THRESHOLD = 0.001  \n",
    "features_selected = importance_df.query('shap_importance > @SHAP_THRESHOLD').column_name.tolist()\n",
    "X_train = X_train[features_selected]\n",
    "X_test = X_test[features_selected]\n",
    "\n",
    "print(X_train.shape)"
   ]
  },
  {
   "cell_type": "markdown",
   "id": "b1ac4173",
   "metadata": {},
   "source": [
    "# optuna 단계시작\n",
    "- 메일로 설명드린바와 같이 하이퍼파라미터값만 기입을 하여 모델링 하였습니다. "
   ]
  },
  {
   "cell_type": "code",
   "execution_count": 41,
   "id": "d224d668",
   "metadata": {},
   "outputs": [],
   "source": [
    "# X_train_copy=X_train.copy()\n",
    "# y_train_copy=y_train.copy()"
   ]
  },
  {
   "cell_type": "code",
   "execution_count": 42,
   "id": "f86ce3d7",
   "metadata": {},
   "outputs": [],
   "source": [
    "# from sklearn.model_selection import train_test_split  # stratify = y_train 인지 y_train\n",
    "# X_train_c, X_val, y_train_c, y_val = train_test_split(X_train_copy, y_train_copy, test_size=0.3, stratify = y_train, random_state=42)"
   ]
  },
  {
   "cell_type": "code",
   "execution_count": 43,
   "id": "96d8bcbb",
   "metadata": {},
   "outputs": [],
   "source": [
    "# from bayes_opt import BayesianOptimization\n",
    "# bayesian_params = {\n",
    "#     'n_estimators': (50, 500),\n",
    "#     'learning_rate': (0.001, 0.1),\n",
    "#     'max_depth': (8, 16),\n",
    "#     'num_leaves': (24, 64),\n",
    "#     'min_child_samples': (10, 200),\n",
    "#     'min_child_weight': (1, 50),\n",
    "#     'subsample': (0.5, 1),\n",
    "#     'colsample_bytree': (0.5, 1),\n",
    "#     'max_bin': (10, 500),\n",
    "#     'reg_lambda': (0.001, 10),\n",
    "#     'reg_alpha': (0.01, 50)\n",
    "# }\n",
    "\n",
    "# def accuracy_eval(n_estimators, learning_rate, max_depth, num_leaves, min_child_samples, min_child_weight, subsample, \n",
    "#                 colsample_bytree, max_bin, reg_lambda, reg_alpha):\n",
    "    \n",
    "#     params = {\n",
    "#         \"n_estimators\": int(round(n_estimators)), \n",
    "#         'learning_rate': learning_rate,\n",
    "#         'max_depth': int(round(max_depth)),\n",
    "#         'num_leaves': int(round(num_leaves)),\n",
    "#         'min_child_samples': int(round(min_child_samples)),\n",
    "#         'min_child_weight': int(round(min_child_weight)),\n",
    "#         'subsample': max(min(subsample, 1), 0),\n",
    "#         'colsample_bytree': max(min(colsample_bytree, 1), 0),\n",
    "#         'reg_lambda': max(reg_lambda, 0),\n",
    "#         'reg_alpha': max(reg_alpha, 0),\n",
    "#         'random_state': 42,\n",
    "#         'n_jobs': -1\n",
    "#     }\n",
    "    \n",
    "#     lgb_model = LGBMClassifier(**params)\n",
    "#     lgb_model.fit(X_train_c, y_train_c, eval_set=[(X_train_c, y_train_c), (X_val, y_val)], eval_metric='auc')\n",
    "    \n",
    "#     valid_pred = lgb_model.predict(X_val)\n",
    "#     accuracy = accuracy_score(y_val, valid_pred)\n",
    "    \n",
    "#     return accuracy"
   ]
  },
  {
   "cell_type": "code",
   "execution_count": 44,
   "id": "226e46e8",
   "metadata": {},
   "outputs": [],
   "source": [
    "# lgbBO = BayesianOptimization(f = accuracy_eval, pbounds=bayesian_params, random_state=1010)\n",
    "# lgbBO.maximize(init_points=5, n_iter=300) # n_iter 300번 돌림"
   ]
  },
  {
   "cell_type": "code",
   "execution_count": 45,
   "id": "9cddd34b",
   "metadata": {},
   "outputs": [],
   "source": [
    "# # dictionary에 있는 target값을 모두 추출\n",
    "# target_list = []\n",
    "\n",
    "# for result in lgbBO.res:\n",
    "#     target = result['target']\n",
    "#     target_list.append(target)\n",
    "# print(target_list)\n",
    "# # 가장 큰 target 값을 가지는 순번(index)를 추출\n",
    "# print('maximum target index:', np.argmax(np.array(target_list)))\n",
    "\n",
    "# # 가장 큰 target값을 가지는 index값을 기준으로 res에서 해당 parameter 추출. \n",
    "# max_dict = lgbBO.res[np.argmax(np.array(target_list))]\n",
    "# print(max_dict)"
   ]
  },
  {
   "cell_type": "code",
   "execution_count": 46,
   "id": "3ef04a21",
   "metadata": {
    "execution": {
     "iopub.execute_input": "2023-12-20T10:42:37.239635Z",
     "iopub.status.busy": "2023-12-20T10:42:37.239237Z",
     "iopub.status.idle": "2023-12-20T10:42:37.246271Z",
     "shell.execute_reply": "2023-12-20T10:42:37.245144Z"
    },
    "papermill": {
     "duration": 0.034282,
     "end_time": "2023-12-20T10:42:37.248659",
     "exception": false,
     "start_time": "2023-12-20T10:42:37.214377",
     "status": "completed"
    },
    "tags": []
   },
   "outputs": [],
   "source": [
    "# 위에서 나온 best parameter 값 적용 정수형 값은 반올림함\n",
    "models_LGBM = LGBMClassifier(\n",
    "                objective='binary',\n",
    "                metric='accuracy', \n",
    "                n_estimators=445,\n",
    "                learning_rate=0.1,\n",
    "                max_bin=136,\n",
    "                max_depth=16,\n",
    "                num_leaves=64,\n",
    "                colsample_bytree=1.0,\n",
    "                subsample=0.7386359452689183,\n",
    "                reg_alpha=0.01,\n",
    "                reg_lambda=10.0,\n",
    "                min_child_samples=125,\n",
    "                min_child_weight=1.0,\n",
    "                silent=-1,\n",
    "                verbose=-1,\n",
    "                random_state=42\n",
    ")\n"
   ]
  },
  {
   "cell_type": "code",
   "execution_count": 47,
   "id": "5c5aaa7f",
   "metadata": {},
   "outputs": [],
   "source": [
    "# def objective(trial):\n",
    "#     model = CatBoostClassifier(\n",
    "#         iterations=trial.suggest_int(\"iterations\", 100, 1000),\n",
    "#         learning_rate=trial.suggest_float(\"learning_rate\", 1e-3, 1e-1, log=True),\n",
    "#         depth=trial.suggest_int(\"depth\", 4, 10),\n",
    "#         l2_leaf_reg=trial.suggest_float(\"l2_leaf_reg\", 1e-2, 100.0),\n",
    "#         bootstrap_type=trial.suggest_categorical(\"bootstrap_type\", [\"Bayesian\"]),\n",
    "#         random_strength=trial.suggest_float(\"random_strength\", 1e-8, 10.0, log=True),\n",
    "#         bagging_temperature=trial.suggest_float(\"bagging_temperature\", 0.0, 10.0),\n",
    "#         od_type=trial.suggest_categorical(\"od_type\", [\"IncToDec\", \"Iter\"]),\n",
    "#         od_wait=trial.suggest_int(\"od_wait\", 10, 50),\n",
    "#         verbose=False,\n",
    "#         random_state=42\n",
    "#     )\n",
    "#     model.fit(X_train_c, y_train_c)\n",
    "#     y_pred = model.predict(X_val)\n",
    "#     return accuracy_score(y_val, y_pred)\n",
    "\n",
    "# optuna.logging.set_verbosity(optuna.logging.WARNING)\n",
    "\n",
    "# sampler = optuna.samplers.TPESampler(seed=1)\n",
    "# study = optuna.create_study(study_name=\"catboost\", direction=\"maximize\", sampler=sampler)\n",
    "# study.optimize(objective, n_trials=50)\n",
    "\n",
    "# print(\"Best score:\", study.best_value)\n",
    "# print(\"Best parameters:\", study.best_params)\n",
    "\n",
    "# Cat_best_params = study.best_params"
   ]
  },
  {
   "cell_type": "code",
   "execution_count": 48,
   "id": "396b302f",
   "metadata": {
    "execution": {
     "iopub.execute_input": "2023-12-20T10:42:37.298513Z",
     "iopub.status.busy": "2023-12-20T10:42:37.298074Z",
     "iopub.status.idle": "2023-12-20T10:42:37.307104Z",
     "shell.execute_reply": "2023-12-20T10:42:37.306239Z"
    },
    "papermill": {
     "duration": 0.036302,
     "end_time": "2023-12-20T10:42:37.309257",
     "exception": false,
     "start_time": "2023-12-20T10:42:37.272955",
     "status": "completed"
    },
    "tags": []
   },
   "outputs": [],
   "source": [
    "models_Cat =CatBoostClassifier(iterations=885, \n",
    "                       learning_rate=0.08273733773726523, \n",
    "                       depth=9, l2_leaf_reg=45.0828306909799, \n",
    "                       bootstrap_type='Bayesian', \n",
    "                       random_strength=1.1189547899665642e-05, \n",
    "                       bagging_temperature=0.06199447009878256, \n",
    "                       od_type='Iter', \n",
    "                       od_wait=39,\n",
    "                       random_state=42)                   \n"
   ]
  },
  {
   "cell_type": "code",
   "execution_count": 49,
   "id": "69fe97c0",
   "metadata": {
    "execution": {
     "iopub.execute_input": "2023-12-20T10:42:37.358960Z",
     "iopub.status.busy": "2023-12-20T10:42:37.358270Z",
     "iopub.status.idle": "2023-12-20T10:42:51.001378Z",
     "shell.execute_reply": "2023-12-20T10:42:51.000398Z"
    },
    "papermill": {
     "duration": 13.671001,
     "end_time": "2023-12-20T10:42:51.004096",
     "exception": false,
     "start_time": "2023-12-20T10:42:37.333095",
     "status": "completed"
    },
    "tags": []
   },
   "outputs": [
    {
     "ename": "FileNotFoundError",
     "evalue": "[Errno 2] No such file or directory: 'X_train_pre.csv'",
     "output_type": "error",
     "traceback": [
      "\u001b[1;31m---------------------------------------------------------------------------\u001b[0m",
      "\u001b[1;31mFileNotFoundError\u001b[0m                         Traceback (most recent call last)",
      "Cell \u001b[1;32mIn[49], line 4\u001b[0m\n\u001b[0;32m      1\u001b[0m \u001b[38;5;66;03m# 전처리파일 불러오기\u001b[39;00m\n\u001b[0;32m      2\u001b[0m \u001b[38;5;66;03m# X_train = pd.read_csv('/kaggle/input/predata/X_train_pre.csv', encoding='cp949')\u001b[39;00m\n\u001b[0;32m      3\u001b[0m \u001b[38;5;66;03m# X_test = pd.read_csv('/kaggle/input/predata/X_test_pre.csv', encoding='cp949')\u001b[39;00m\n\u001b[1;32m----> 4\u001b[0m X_train \u001b[38;5;241m=\u001b[39m \u001b[43mpd\u001b[49m\u001b[38;5;241;43m.\u001b[39;49m\u001b[43mread_csv\u001b[49m\u001b[43m(\u001b[49m\u001b[38;5;124;43m'\u001b[39;49m\u001b[38;5;124;43mX_train_pre.csv\u001b[39;49m\u001b[38;5;124;43m'\u001b[39;49m\u001b[43m,\u001b[49m\u001b[43m \u001b[49m\u001b[43mencoding\u001b[49m\u001b[38;5;241;43m=\u001b[39;49m\u001b[38;5;124;43m'\u001b[39;49m\u001b[38;5;124;43mcp949\u001b[39;49m\u001b[38;5;124;43m'\u001b[39;49m\u001b[43m)\u001b[49m\n\u001b[0;32m      5\u001b[0m X_test \u001b[38;5;241m=\u001b[39m pd\u001b[38;5;241m.\u001b[39mread_csv(\u001b[38;5;124m'\u001b[39m\u001b[38;5;124mX_test_pre.csv\u001b[39m\u001b[38;5;124m'\u001b[39m, encoding\u001b[38;5;241m=\u001b[39m\u001b[38;5;124m'\u001b[39m\u001b[38;5;124mcp949\u001b[39m\u001b[38;5;124m'\u001b[39m)\n",
      "File \u001b[1;32mc:\\Users\\wogur\\anaconda3\\lib\\site-packages\\pandas\\util\\_decorators.py:311\u001b[0m, in \u001b[0;36mdeprecate_nonkeyword_arguments.<locals>.decorate.<locals>.wrapper\u001b[1;34m(*args, **kwargs)\u001b[0m\n\u001b[0;32m    305\u001b[0m \u001b[38;5;28;01mif\u001b[39;00m \u001b[38;5;28mlen\u001b[39m(args) \u001b[38;5;241m>\u001b[39m num_allow_args:\n\u001b[0;32m    306\u001b[0m     warnings\u001b[38;5;241m.\u001b[39mwarn(\n\u001b[0;32m    307\u001b[0m         msg\u001b[38;5;241m.\u001b[39mformat(arguments\u001b[38;5;241m=\u001b[39marguments),\n\u001b[0;32m    308\u001b[0m         \u001b[38;5;167;01mFutureWarning\u001b[39;00m,\n\u001b[0;32m    309\u001b[0m         stacklevel\u001b[38;5;241m=\u001b[39mstacklevel,\n\u001b[0;32m    310\u001b[0m     )\n\u001b[1;32m--> 311\u001b[0m \u001b[38;5;28;01mreturn\u001b[39;00m func(\u001b[38;5;241m*\u001b[39margs, \u001b[38;5;241m*\u001b[39m\u001b[38;5;241m*\u001b[39mkwargs)\n",
      "File \u001b[1;32mc:\\Users\\wogur\\anaconda3\\lib\\site-packages\\pandas\\io\\parsers\\readers.py:586\u001b[0m, in \u001b[0;36mread_csv\u001b[1;34m(filepath_or_buffer, sep, delimiter, header, names, index_col, usecols, squeeze, prefix, mangle_dupe_cols, dtype, engine, converters, true_values, false_values, skipinitialspace, skiprows, skipfooter, nrows, na_values, keep_default_na, na_filter, verbose, skip_blank_lines, parse_dates, infer_datetime_format, keep_date_col, date_parser, dayfirst, cache_dates, iterator, chunksize, compression, thousands, decimal, lineterminator, quotechar, quoting, doublequote, escapechar, comment, encoding, encoding_errors, dialect, error_bad_lines, warn_bad_lines, on_bad_lines, delim_whitespace, low_memory, memory_map, float_precision, storage_options)\u001b[0m\n\u001b[0;32m    571\u001b[0m kwds_defaults \u001b[38;5;241m=\u001b[39m _refine_defaults_read(\n\u001b[0;32m    572\u001b[0m     dialect,\n\u001b[0;32m    573\u001b[0m     delimiter,\n\u001b[1;32m   (...)\u001b[0m\n\u001b[0;32m    582\u001b[0m     defaults\u001b[38;5;241m=\u001b[39m{\u001b[38;5;124m\"\u001b[39m\u001b[38;5;124mdelimiter\u001b[39m\u001b[38;5;124m\"\u001b[39m: \u001b[38;5;124m\"\u001b[39m\u001b[38;5;124m,\u001b[39m\u001b[38;5;124m\"\u001b[39m},\n\u001b[0;32m    583\u001b[0m )\n\u001b[0;32m    584\u001b[0m kwds\u001b[38;5;241m.\u001b[39mupdate(kwds_defaults)\n\u001b[1;32m--> 586\u001b[0m \u001b[38;5;28;01mreturn\u001b[39;00m \u001b[43m_read\u001b[49m\u001b[43m(\u001b[49m\u001b[43mfilepath_or_buffer\u001b[49m\u001b[43m,\u001b[49m\u001b[43m \u001b[49m\u001b[43mkwds\u001b[49m\u001b[43m)\u001b[49m\n",
      "File \u001b[1;32mc:\\Users\\wogur\\anaconda3\\lib\\site-packages\\pandas\\io\\parsers\\readers.py:482\u001b[0m, in \u001b[0;36m_read\u001b[1;34m(filepath_or_buffer, kwds)\u001b[0m\n\u001b[0;32m    479\u001b[0m _validate_names(kwds\u001b[38;5;241m.\u001b[39mget(\u001b[38;5;124m\"\u001b[39m\u001b[38;5;124mnames\u001b[39m\u001b[38;5;124m\"\u001b[39m, \u001b[38;5;28;01mNone\u001b[39;00m))\n\u001b[0;32m    481\u001b[0m \u001b[38;5;66;03m# Create the parser.\u001b[39;00m\n\u001b[1;32m--> 482\u001b[0m parser \u001b[38;5;241m=\u001b[39m TextFileReader(filepath_or_buffer, \u001b[38;5;241m*\u001b[39m\u001b[38;5;241m*\u001b[39mkwds)\n\u001b[0;32m    484\u001b[0m \u001b[38;5;28;01mif\u001b[39;00m chunksize \u001b[38;5;129;01mor\u001b[39;00m iterator:\n\u001b[0;32m    485\u001b[0m     \u001b[38;5;28;01mreturn\u001b[39;00m parser\n",
      "File \u001b[1;32mc:\\Users\\wogur\\anaconda3\\lib\\site-packages\\pandas\\io\\parsers\\readers.py:811\u001b[0m, in \u001b[0;36mTextFileReader.__init__\u001b[1;34m(self, f, engine, **kwds)\u001b[0m\n\u001b[0;32m    808\u001b[0m \u001b[38;5;28;01mif\u001b[39;00m \u001b[38;5;124m\"\u001b[39m\u001b[38;5;124mhas_index_names\u001b[39m\u001b[38;5;124m\"\u001b[39m \u001b[38;5;129;01min\u001b[39;00m kwds:\n\u001b[0;32m    809\u001b[0m     \u001b[38;5;28mself\u001b[39m\u001b[38;5;241m.\u001b[39moptions[\u001b[38;5;124m\"\u001b[39m\u001b[38;5;124mhas_index_names\u001b[39m\u001b[38;5;124m\"\u001b[39m] \u001b[38;5;241m=\u001b[39m kwds[\u001b[38;5;124m\"\u001b[39m\u001b[38;5;124mhas_index_names\u001b[39m\u001b[38;5;124m\"\u001b[39m]\n\u001b[1;32m--> 811\u001b[0m \u001b[38;5;28mself\u001b[39m\u001b[38;5;241m.\u001b[39m_engine \u001b[38;5;241m=\u001b[39m \u001b[38;5;28;43mself\u001b[39;49m\u001b[38;5;241;43m.\u001b[39;49m\u001b[43m_make_engine\u001b[49m\u001b[43m(\u001b[49m\u001b[38;5;28;43mself\u001b[39;49m\u001b[38;5;241;43m.\u001b[39;49m\u001b[43mengine\u001b[49m\u001b[43m)\u001b[49m\n",
      "File \u001b[1;32mc:\\Users\\wogur\\anaconda3\\lib\\site-packages\\pandas\\io\\parsers\\readers.py:1040\u001b[0m, in \u001b[0;36mTextFileReader._make_engine\u001b[1;34m(self, engine)\u001b[0m\n\u001b[0;32m   1036\u001b[0m     \u001b[38;5;28;01mraise\u001b[39;00m \u001b[38;5;167;01mValueError\u001b[39;00m(\n\u001b[0;32m   1037\u001b[0m         \u001b[38;5;124mf\u001b[39m\u001b[38;5;124m\"\u001b[39m\u001b[38;5;124mUnknown engine: \u001b[39m\u001b[38;5;132;01m{\u001b[39;00mengine\u001b[38;5;132;01m}\u001b[39;00m\u001b[38;5;124m (valid options are \u001b[39m\u001b[38;5;132;01m{\u001b[39;00mmapping\u001b[38;5;241m.\u001b[39mkeys()\u001b[38;5;132;01m}\u001b[39;00m\u001b[38;5;124m)\u001b[39m\u001b[38;5;124m\"\u001b[39m\n\u001b[0;32m   1038\u001b[0m     )\n\u001b[0;32m   1039\u001b[0m \u001b[38;5;66;03m# error: Too many arguments for \"ParserBase\"\u001b[39;00m\n\u001b[1;32m-> 1040\u001b[0m \u001b[38;5;28;01mreturn\u001b[39;00m mapping[engine](\u001b[38;5;28mself\u001b[39m\u001b[38;5;241m.\u001b[39mf, \u001b[38;5;241m*\u001b[39m\u001b[38;5;241m*\u001b[39m\u001b[38;5;28mself\u001b[39m\u001b[38;5;241m.\u001b[39moptions)\n",
      "File \u001b[1;32mc:\\Users\\wogur\\anaconda3\\lib\\site-packages\\pandas\\io\\parsers\\c_parser_wrapper.py:51\u001b[0m, in \u001b[0;36mCParserWrapper.__init__\u001b[1;34m(self, src, **kwds)\u001b[0m\n\u001b[0;32m     48\u001b[0m kwds[\u001b[38;5;124m\"\u001b[39m\u001b[38;5;124musecols\u001b[39m\u001b[38;5;124m\"\u001b[39m] \u001b[38;5;241m=\u001b[39m \u001b[38;5;28mself\u001b[39m\u001b[38;5;241m.\u001b[39musecols\n\u001b[0;32m     50\u001b[0m \u001b[38;5;66;03m# open handles\u001b[39;00m\n\u001b[1;32m---> 51\u001b[0m \u001b[38;5;28;43mself\u001b[39;49m\u001b[38;5;241;43m.\u001b[39;49m\u001b[43m_open_handles\u001b[49m\u001b[43m(\u001b[49m\u001b[43msrc\u001b[49m\u001b[43m,\u001b[49m\u001b[43m \u001b[49m\u001b[43mkwds\u001b[49m\u001b[43m)\u001b[49m\n\u001b[0;32m     52\u001b[0m \u001b[38;5;28;01massert\u001b[39;00m \u001b[38;5;28mself\u001b[39m\u001b[38;5;241m.\u001b[39mhandles \u001b[38;5;129;01mis\u001b[39;00m \u001b[38;5;129;01mnot\u001b[39;00m \u001b[38;5;28;01mNone\u001b[39;00m\n\u001b[0;32m     54\u001b[0m \u001b[38;5;66;03m# Have to pass int, would break tests using TextReader directly otherwise :(\u001b[39;00m\n",
      "File \u001b[1;32mc:\\Users\\wogur\\anaconda3\\lib\\site-packages\\pandas\\io\\parsers\\base_parser.py:222\u001b[0m, in \u001b[0;36mParserBase._open_handles\u001b[1;34m(self, src, kwds)\u001b[0m\n\u001b[0;32m    218\u001b[0m \u001b[38;5;28;01mdef\u001b[39;00m \u001b[38;5;21m_open_handles\u001b[39m(\u001b[38;5;28mself\u001b[39m, src: FilePathOrBuffer, kwds: \u001b[38;5;28mdict\u001b[39m[\u001b[38;5;28mstr\u001b[39m, Any]) \u001b[38;5;241m-\u001b[39m\u001b[38;5;241m>\u001b[39m \u001b[38;5;28;01mNone\u001b[39;00m:\n\u001b[0;32m    219\u001b[0m \u001b[38;5;250m    \u001b[39m\u001b[38;5;124;03m\"\"\"\u001b[39;00m\n\u001b[0;32m    220\u001b[0m \u001b[38;5;124;03m    Let the readers open IOHandles after they are done with their potential raises.\u001b[39;00m\n\u001b[0;32m    221\u001b[0m \u001b[38;5;124;03m    \"\"\"\u001b[39;00m\n\u001b[1;32m--> 222\u001b[0m     \u001b[38;5;28mself\u001b[39m\u001b[38;5;241m.\u001b[39mhandles \u001b[38;5;241m=\u001b[39m \u001b[43mget_handle\u001b[49m\u001b[43m(\u001b[49m\n\u001b[0;32m    223\u001b[0m \u001b[43m        \u001b[49m\u001b[43msrc\u001b[49m\u001b[43m,\u001b[49m\n\u001b[0;32m    224\u001b[0m \u001b[43m        \u001b[49m\u001b[38;5;124;43m\"\u001b[39;49m\u001b[38;5;124;43mr\u001b[39;49m\u001b[38;5;124;43m\"\u001b[39;49m\u001b[43m,\u001b[49m\n\u001b[0;32m    225\u001b[0m \u001b[43m        \u001b[49m\u001b[43mencoding\u001b[49m\u001b[38;5;241;43m=\u001b[39;49m\u001b[43mkwds\u001b[49m\u001b[38;5;241;43m.\u001b[39;49m\u001b[43mget\u001b[49m\u001b[43m(\u001b[49m\u001b[38;5;124;43m\"\u001b[39;49m\u001b[38;5;124;43mencoding\u001b[39;49m\u001b[38;5;124;43m\"\u001b[39;49m\u001b[43m,\u001b[49m\u001b[43m \u001b[49m\u001b[38;5;28;43;01mNone\u001b[39;49;00m\u001b[43m)\u001b[49m\u001b[43m,\u001b[49m\n\u001b[0;32m    226\u001b[0m \u001b[43m        \u001b[49m\u001b[43mcompression\u001b[49m\u001b[38;5;241;43m=\u001b[39;49m\u001b[43mkwds\u001b[49m\u001b[38;5;241;43m.\u001b[39;49m\u001b[43mget\u001b[49m\u001b[43m(\u001b[49m\u001b[38;5;124;43m\"\u001b[39;49m\u001b[38;5;124;43mcompression\u001b[39;49m\u001b[38;5;124;43m\"\u001b[39;49m\u001b[43m,\u001b[49m\u001b[43m \u001b[49m\u001b[38;5;28;43;01mNone\u001b[39;49;00m\u001b[43m)\u001b[49m\u001b[43m,\u001b[49m\n\u001b[0;32m    227\u001b[0m \u001b[43m        \u001b[49m\u001b[43mmemory_map\u001b[49m\u001b[38;5;241;43m=\u001b[39;49m\u001b[43mkwds\u001b[49m\u001b[38;5;241;43m.\u001b[39;49m\u001b[43mget\u001b[49m\u001b[43m(\u001b[49m\u001b[38;5;124;43m\"\u001b[39;49m\u001b[38;5;124;43mmemory_map\u001b[39;49m\u001b[38;5;124;43m\"\u001b[39;49m\u001b[43m,\u001b[49m\u001b[43m \u001b[49m\u001b[38;5;28;43;01mFalse\u001b[39;49;00m\u001b[43m)\u001b[49m\u001b[43m,\u001b[49m\n\u001b[0;32m    228\u001b[0m \u001b[43m        \u001b[49m\u001b[43mstorage_options\u001b[49m\u001b[38;5;241;43m=\u001b[39;49m\u001b[43mkwds\u001b[49m\u001b[38;5;241;43m.\u001b[39;49m\u001b[43mget\u001b[49m\u001b[43m(\u001b[49m\u001b[38;5;124;43m\"\u001b[39;49m\u001b[38;5;124;43mstorage_options\u001b[39;49m\u001b[38;5;124;43m\"\u001b[39;49m\u001b[43m,\u001b[49m\u001b[43m \u001b[49m\u001b[38;5;28;43;01mNone\u001b[39;49;00m\u001b[43m)\u001b[49m\u001b[43m,\u001b[49m\n\u001b[0;32m    229\u001b[0m \u001b[43m        \u001b[49m\u001b[43merrors\u001b[49m\u001b[38;5;241;43m=\u001b[39;49m\u001b[43mkwds\u001b[49m\u001b[38;5;241;43m.\u001b[39;49m\u001b[43mget\u001b[49m\u001b[43m(\u001b[49m\u001b[38;5;124;43m\"\u001b[39;49m\u001b[38;5;124;43mencoding_errors\u001b[39;49m\u001b[38;5;124;43m\"\u001b[39;49m\u001b[43m,\u001b[49m\u001b[43m \u001b[49m\u001b[38;5;124;43m\"\u001b[39;49m\u001b[38;5;124;43mstrict\u001b[39;49m\u001b[38;5;124;43m\"\u001b[39;49m\u001b[43m)\u001b[49m\u001b[43m,\u001b[49m\n\u001b[0;32m    230\u001b[0m \u001b[43m    \u001b[49m\u001b[43m)\u001b[49m\n",
      "File \u001b[1;32mc:\\Users\\wogur\\anaconda3\\lib\\site-packages\\pandas\\io\\common.py:702\u001b[0m, in \u001b[0;36mget_handle\u001b[1;34m(path_or_buf, mode, encoding, compression, memory_map, is_text, errors, storage_options)\u001b[0m\n\u001b[0;32m    697\u001b[0m \u001b[38;5;28;01melif\u001b[39;00m \u001b[38;5;28misinstance\u001b[39m(handle, \u001b[38;5;28mstr\u001b[39m):\n\u001b[0;32m    698\u001b[0m     \u001b[38;5;66;03m# Check whether the filename is to be opened in binary mode.\u001b[39;00m\n\u001b[0;32m    699\u001b[0m     \u001b[38;5;66;03m# Binary mode does not support 'encoding' and 'newline'.\u001b[39;00m\n\u001b[0;32m    700\u001b[0m     \u001b[38;5;28;01mif\u001b[39;00m ioargs\u001b[38;5;241m.\u001b[39mencoding \u001b[38;5;129;01mand\u001b[39;00m \u001b[38;5;124m\"\u001b[39m\u001b[38;5;124mb\u001b[39m\u001b[38;5;124m\"\u001b[39m \u001b[38;5;129;01mnot\u001b[39;00m \u001b[38;5;129;01min\u001b[39;00m ioargs\u001b[38;5;241m.\u001b[39mmode:\n\u001b[0;32m    701\u001b[0m         \u001b[38;5;66;03m# Encoding\u001b[39;00m\n\u001b[1;32m--> 702\u001b[0m         handle \u001b[38;5;241m=\u001b[39m \u001b[38;5;28;43mopen\u001b[39;49m\u001b[43m(\u001b[49m\n\u001b[0;32m    703\u001b[0m \u001b[43m            \u001b[49m\u001b[43mhandle\u001b[49m\u001b[43m,\u001b[49m\n\u001b[0;32m    704\u001b[0m \u001b[43m            \u001b[49m\u001b[43mioargs\u001b[49m\u001b[38;5;241;43m.\u001b[39;49m\u001b[43mmode\u001b[49m\u001b[43m,\u001b[49m\n\u001b[0;32m    705\u001b[0m \u001b[43m            \u001b[49m\u001b[43mencoding\u001b[49m\u001b[38;5;241;43m=\u001b[39;49m\u001b[43mioargs\u001b[49m\u001b[38;5;241;43m.\u001b[39;49m\u001b[43mencoding\u001b[49m\u001b[43m,\u001b[49m\n\u001b[0;32m    706\u001b[0m \u001b[43m            \u001b[49m\u001b[43merrors\u001b[49m\u001b[38;5;241;43m=\u001b[39;49m\u001b[43merrors\u001b[49m\u001b[43m,\u001b[49m\n\u001b[0;32m    707\u001b[0m \u001b[43m            \u001b[49m\u001b[43mnewline\u001b[49m\u001b[38;5;241;43m=\u001b[39;49m\u001b[38;5;124;43m\"\u001b[39;49m\u001b[38;5;124;43m\"\u001b[39;49m\u001b[43m,\u001b[49m\n\u001b[0;32m    708\u001b[0m \u001b[43m        \u001b[49m\u001b[43m)\u001b[49m\n\u001b[0;32m    709\u001b[0m     \u001b[38;5;28;01melse\u001b[39;00m:\n\u001b[0;32m    710\u001b[0m         \u001b[38;5;66;03m# Binary mode\u001b[39;00m\n\u001b[0;32m    711\u001b[0m         handle \u001b[38;5;241m=\u001b[39m \u001b[38;5;28mopen\u001b[39m(handle, ioargs\u001b[38;5;241m.\u001b[39mmode)\n",
      "\u001b[1;31mFileNotFoundError\u001b[0m: [Errno 2] No such file or directory: 'X_train_pre.csv'"
     ]
    }
   ],
   "source": [
    "# 전처리파일 불러오기\n",
    "# X_train = pd.read_csv('/kaggle/input/predata/X_train_pre.csv', encoding='cp949')\n",
    "# X_test = pd.read_csv('/kaggle/input/predata/X_test_pre.csv', encoding='cp949')\n",
    "X_train = pd.read_csv('X_train_pre.csv', encoding='cp949')\n",
    "X_test = pd.read_csv('X_test_pre.csv', encoding='cp949')\n"
   ]
  },
  {
   "cell_type": "code",
   "execution_count": null,
   "id": "91cc30e2",
   "metadata": {
    "execution": {
     "iopub.execute_input": "2023-12-20T10:42:51.054361Z",
     "iopub.status.busy": "2023-12-20T10:42:51.053661Z",
     "iopub.status.idle": "2023-12-20T10:42:53.913191Z",
     "shell.execute_reply": "2023-12-20T10:42:53.912275Z"
    },
    "papermill": {
     "duration": 2.887455,
     "end_time": "2023-12-20T10:42:53.915830",
     "exception": false,
     "start_time": "2023-12-20T10:42:51.028375",
     "status": "completed"
    },
    "tags": []
   },
   "outputs": [],
   "source": [
    "# 전처리 데이터에 있는 categorical feature encoding\n",
    "X_train[cat_features] = le.fit_transform(X_train[cat_features])\n",
    "X_test[cat_features] = le.transform(X_test[cat_features])"
   ]
  },
  {
   "cell_type": "code",
   "execution_count": null,
   "id": "a6c258d3",
   "metadata": {
    "execution": {
     "iopub.execute_input": "2023-12-20T10:42:53.966681Z",
     "iopub.status.busy": "2023-12-20T10:42:53.965993Z",
     "iopub.status.idle": "2023-12-20T10:42:54.933003Z",
     "shell.execute_reply": "2023-12-20T10:42:54.932139Z"
    },
    "papermill": {
     "duration": 0.994842,
     "end_time": "2023-12-20T10:42:54.935246",
     "exception": false,
     "start_time": "2023-12-20T10:42:53.940404",
     "status": "completed"
    },
    "tags": []
   },
   "outputs": [],
   "source": [
    "# train,test데이터에 log를 취함\n",
    "X_train_logx = np.log(X_train + 1)\n",
    "X_test_logx = np.log(X_test +1)\n",
    "X_train_logx.shape"
   ]
  },
  {
   "cell_type": "code",
   "execution_count": null,
   "id": "a5176566",
   "metadata": {
    "execution": {
     "iopub.execute_input": "2023-12-20T10:42:54.986478Z",
     "iopub.status.busy": "2023-12-20T10:42:54.985724Z",
     "iopub.status.idle": "2023-12-20T10:45:54.337227Z",
     "shell.execute_reply": "2023-12-20T10:45:54.335983Z"
    },
    "papermill": {
     "duration": 179.380914,
     "end_time": "2023-12-20T10:45:54.340536",
     "exception": false,
     "start_time": "2023-12-20T10:42:54.959622",
     "status": "completed"
    },
    "tags": []
   },
   "outputs": [],
   "source": [
    "# log데이터에 대한 feature selection\n",
    "import shap \n",
    "\n",
    "X_importance = X_test_logx\n",
    "\n",
    "model = LGBMClassifier(random_state=1000,force_row_wise=True).fit(X_train, y_train)\n",
    "explainer = shap.TreeExplainer(model)\n",
    "shap_values = explainer.shap_values(X_importance)\n",
    "\n",
    "\n",
    "shap_sum = np.abs(shap_values).mean(axis=1)[1,:]\n",
    "importance_df = pd.DataFrame([X_importance.columns.tolist(), shap_sum.tolist()]).T\n",
    "importance_df.columns = ['column_name', 'shap_importance']\n",
    "importance_df = importance_df.sort_values('shap_importance', ascending=False)\n",
    "\n"
   ]
  },
  {
   "cell_type": "code",
   "execution_count": null,
   "id": "293273d9",
   "metadata": {
    "execution": {
     "iopub.execute_input": "2023-12-20T10:45:54.392549Z",
     "iopub.status.busy": "2023-12-20T10:45:54.392103Z",
     "iopub.status.idle": "2023-12-20T10:45:54.500011Z",
     "shell.execute_reply": "2023-12-20T10:45:54.498567Z"
    },
    "papermill": {
     "duration": 0.137274,
     "end_time": "2023-12-20T10:45:54.502690",
     "exception": false,
     "start_time": "2023-12-20T10:45:54.365416",
     "status": "completed"
    },
    "tags": []
   },
   "outputs": [],
   "source": [
    "# 지정된(SHAP_THRESHOLD) Shap feature 중요도 이상인 것만 선택\n",
    "SHAP_THRESHOLD = 0.001  \n",
    "features_selected = importance_df.query('shap_importance > @SHAP_THRESHOLD').column_name.tolist()\n",
    "X_train_logx = X_train_logx[features_selected]\n",
    "X_test_logx = X_test_logx[features_selected]\n",
    "\n",
    "print(X_train_logx.shape)"
   ]
  },
  {
   "cell_type": "markdown",
   "id": "e133a4f8",
   "metadata": {},
   "source": [
    "# optuna 단계시작\n",
    "- 메일로 설명드린바와 같이 하이퍼파라미터값만 기입을 하여 모델링 하였습니다. "
   ]
  },
  {
   "cell_type": "code",
   "execution_count": null,
   "id": "6db8ef1a",
   "metadata": {},
   "outputs": [],
   "source": [
    "# X_train_logx_copy=X_train_logx.copy()\n",
    "# y_train_copy=y_train.copy()"
   ]
  },
  {
   "cell_type": "code",
   "execution_count": null,
   "id": "9191dba4",
   "metadata": {},
   "outputs": [],
   "source": [
    "# X_train, X_val, y_train, y_val = train_test_split(X_train_logx_copy, y_train_copy, test_size=0.3, stratify = y_train, random_state=42)"
   ]
  },
  {
   "cell_type": "code",
   "execution_count": null,
   "id": "86fd6c76",
   "metadata": {},
   "outputs": [],
   "source": [
    "# from bayes_opt import BayesianOptimization\n",
    "# bayesian_params = {\n",
    "#     'n_estimators': (50, 500),\n",
    "#     'learning_rate': (0.001, 0.1),\n",
    "#     'max_depth': (8, 16),\n",
    "#     'num_leaves': (24, 64),\n",
    "#     'min_child_samples': (10, 200),\n",
    "#     'min_child_weight': (1, 50),\n",
    "#     'subsample': (0.5, 1),\n",
    "#     'colsample_bytree': (0.5, 1),\n",
    "#     'max_bin': (10, 500),\n",
    "#     'reg_lambda': (0.001, 10),\n",
    "#     'reg_alpha': (0.01, 50)\n",
    "# }\n",
    "\n",
    "# def accuracy_eval(n_estimators, learning_rate, max_depth, num_leaves, min_child_samples, min_child_weight, subsample, \n",
    "#                 colsample_bytree, max_bin, reg_lambda, reg_alpha):\n",
    "    \n",
    "#     params = {\n",
    "#         \"n_estimators\": int(round(n_estimators)), \n",
    "#         'learning_rate': learning_rate,\n",
    "#         'max_depth': int(round(max_depth)),\n",
    "#         'num_leaves': int(round(num_leaves)),\n",
    "#         'min_child_samples': int(round(min_child_samples)),\n",
    "#         'min_child_weight': int(round(min_child_weight)),\n",
    "#         'subsample': max(min(subsample, 1), 0),\n",
    "#         'colsample_bytree': max(min(colsample_bytree, 1), 0),\n",
    "#         'reg_lambda': max(reg_lambda, 0),\n",
    "#         'reg_alpha': max(reg_alpha, 0),\n",
    "#         'random_state': 42,\n",
    "#         'n_jobs': -1\n",
    "#     }\n",
    "    \n",
    "#     lgb_model = LGBMClassifier(**params)\n",
    "#     lgb_model.fit(X_train, y_train, eval_set=[(X_train, y_train), (X_val, y_val)], eval_metric='accuracy')\n",
    "    \n",
    "#     valid_pred = lgb_model.predict(X_val)\n",
    "#     accuracy = accuracy_score(y_val, valid_pred)\n",
    "    \n",
    "#     return accuracy"
   ]
  },
  {
   "cell_type": "code",
   "execution_count": null,
   "id": "3e3f74d8",
   "metadata": {},
   "outputs": [],
   "source": [
    "# lgbBO = BayesianOptimization(f = accuracy_eval, pbounds=bayesian_params, random_state=42)\n",
    "# lgbBO.maximize(init_points=5, n_iter=100)"
   ]
  },
  {
   "cell_type": "code",
   "execution_count": null,
   "id": "2fecb39f",
   "metadata": {},
   "outputs": [],
   "source": [
    "# # dictionary에 있는 target값을 모두 추출\n",
    "# target_list = []\n",
    "\n",
    "# for result in lgbBO.res:\n",
    "#     target = result['target']\n",
    "#     target_list.append(target)\n",
    "# print(target_list)\n",
    "# # 가장 큰 target 값을 가지는 순번(index)를 추출\n",
    "# print('maximum target index:', np.argmax(np.array(target_list)))\n",
    "\n",
    "# # 가장 큰 target값을 가지는 index값을 기준으로 res에서 해당 parameter 추출. \n",
    "# max_dict = lgbBO.res[np.argmax(np.array(target_list))]\n",
    "# print(max_dict)"
   ]
  },
  {
   "cell_type": "code",
   "execution_count": null,
   "id": "02effd44",
   "metadata": {
    "execution": {
     "iopub.execute_input": "2023-12-20T10:45:54.605947Z",
     "iopub.status.busy": "2023-12-20T10:45:54.605549Z",
     "iopub.status.idle": "2023-12-20T10:45:54.612785Z",
     "shell.execute_reply": "2023-12-20T10:45:54.611641Z"
    },
    "papermill": {
     "duration": 0.037332,
     "end_time": "2023-12-20T10:45:54.615305",
     "exception": false,
     "start_time": "2023-12-20T10:45:54.577973",
     "status": "completed"
    },
    "tags": []
   },
   "outputs": [],
   "source": [
    "log_models_LGBM = LGBMClassifier(\n",
    "                objective='binary',\n",
    "                metric='accuracy',  # Fix typo: 'acuuracy' to 'accuracy'\n",
    "                n_estimators=273,\n",
    "                learning_rate=0.09356607937896748,\n",
    "                max_bin=61,\n",
    "                max_depth=12,\n",
    "                num_leaves=57,\n",
    "                colsample_bytree=0.9769221972091021,\n",
    "                subsample=0.9738345920002343,\n",
    "                reg_alpha=1.2748564407184528,\n",
    "                reg_lambda=5.555508132795599,\n",
    "                min_child_samples=78,\n",
    "                min_child_weight= 39.95417524785768,\n",
    "                silent=-1,\n",
    "                verbose=-1,\n",
    "                random_state=42\n",
    "                )"
   ]
  },
  {
   "cell_type": "code",
   "execution_count": null,
   "id": "46b0321e",
   "metadata": {
    "collapsed": true,
    "execution": {
     "iopub.execute_input": "2023-12-20T10:45:54.667776Z",
     "iopub.status.busy": "2023-12-20T10:45:54.667357Z",
     "iopub.status.idle": "2023-12-20T10:45:54.674075Z",
     "shell.execute_reply": "2023-12-20T10:45:54.672642Z"
    },
    "jupyter": {
     "outputs_hidden": true
    },
    "papermill": {
     "duration": 0.035813,
     "end_time": "2023-12-20T10:45:54.676825",
     "exception": false,
     "start_time": "2023-12-20T10:45:54.641012",
     "status": "completed"
    },
    "tags": []
   },
   "outputs": [],
   "source": [
    "# model_cat과 같은 파라미터 사용\n",
    "log_models_Cat = CatBoostClassifier(iterations=885, \n",
    "                       learning_rate=0.08273733773726523, \n",
    "                       depth=9, l2_leaf_reg=45.0828306909799, \n",
    "                       bootstrap_type='Bayesian', \n",
    "                       random_strength=1.1189547899665642e-05, \n",
    "                       bagging_temperature=0.06199447009878256, \n",
    "                       od_type='Iter', \n",
    "                       od_wait=39,\n",
    "                       random_state=42)"
   ]
  },
  {
   "cell_type": "code",
   "execution_count": null,
   "id": "b7d1a880",
   "metadata": {
    "execution": {
     "iopub.execute_input": "2023-12-20T10:45:54.787783Z",
     "iopub.status.busy": "2023-12-20T10:45:54.786929Z",
     "iopub.status.idle": "2023-12-20T10:53:58.045726Z",
     "shell.execute_reply": "2023-12-20T10:53:58.044666Z"
    },
    "papermill": {
     "duration": 483.290681,
     "end_time": "2023-12-20T10:53:58.048360",
     "exception": false,
     "start_time": "2023-12-20T10:45:54.757679",
     "status": "completed"
    },
    "tags": []
   },
   "outputs": [],
   "source": [
    "voting = VotingClassifier(\n",
    "   estimators = [('lgbm', models_LGBM), ('Cat',models_Cat),('log_lgbm',log_models_LGBM),('log_cat',log_models_Cat)], voting='soft')  #(이름,모델) 튜플로                  \n",
    "voting.fit(X_train, y_train)\n",
    "voting_predict=voting.predict(X_test)"
   ]
  },
  {
   "cell_type": "markdown",
   "id": "810e057b",
   "metadata": {
    "papermill": {
     "duration": 0.162458,
     "end_time": "2023-12-20T10:53:58.699050",
     "exception": false,
     "start_time": "2023-12-20T10:53:58.536592",
     "status": "completed"
    },
    "tags": []
   },
   "source": [
    "##### Make a submission"
   ]
  },
  {
   "cell_type": "code",
   "execution_count": null,
   "id": "8f7ddb73",
   "metadata": {
    "execution": {
     "iopub.execute_input": "2023-12-20T10:53:59.026952Z",
     "iopub.status.busy": "2023-12-20T10:53:59.026278Z",
     "iopub.status.idle": "2023-12-20T10:54:00.253008Z",
     "shell.execute_reply": "2023-12-20T10:54:00.251737Z"
    },
    "papermill": {
     "duration": 1.393858,
     "end_time": "2023-12-20T10:54:00.255658",
     "exception": false,
     "start_time": "2023-12-20T10:53:58.861800",
     "status": "completed"
    },
    "tags": []
   },
   "outputs": [],
   "source": [
    "t = pd.Timestamp.now()\n",
    "fname = f\"voting_submission_{t.month:02}{t.day:02}{t.hour:02}{t.minute:02}.csv\"\n",
    "pd.DataFrame({'ID': ID_test, 'STATUS': voting_predict}).to_csv(fname, index=False)\n",
    "print(f\"'{fname}' is ready to submit.\")"
   ]
  },
  {
   "cell_type": "markdown",
   "id": "86d33b48",
   "metadata": {
    "papermill": {
     "duration": 0.161199,
     "end_time": "2023-12-20T10:54:00.577922",
     "exception": false,
     "start_time": "2023-12-20T10:54:00.416723",
     "status": "completed"
    },
    "tags": []
   },
   "source": [
    "<font color=\"#CC3D3D\"><p>\n",
    "# End"
   ]
  }
 ],
 "metadata": {
  "kaggle": {
   "accelerator": "none",
   "dataSources": [
    {
     "databundleVersionId": 7261066,
     "sourceId": 65909,
     "sourceType": "competition"
    },
    {
     "datasetId": 4194589,
     "sourceId": 7241944,
     "sourceType": "datasetVersion"
    },
    {
     "datasetId": 4196348,
     "sourceId": 7244422,
     "sourceType": "datasetVersion"
    }
   ],
   "dockerImageVersionId": 30615,
   "isGpuEnabled": false,
   "isInternetEnabled": true,
   "language": "python",
   "sourceType": "notebook"
  },
  "kernelspec": {
   "display_name": "Python 3",
   "language": "python",
   "name": "python3"
  },
  "language_info": {
   "codemirror_mode": {
    "name": "ipython",
    "version": 3
   },
   "file_extension": ".py",
   "mimetype": "text/x-python",
   "name": "python",
   "nbconvert_exporter": "python",
   "pygments_lexer": "ipython3",
   "version": "3.9.16"
  },
  "papermill": {
   "default_parameters": {},
   "duration": 1013.590954,
   "end_time": "2023-12-20T10:54:02.670050",
   "environment_variables": {},
   "exception": null,
   "input_path": "__notebook__.ipynb",
   "output_path": "__notebook__.ipynb",
   "parameters": {},
   "start_time": "2023-12-20T10:37:09.079096",
   "version": "2.4.0"
  }
 },
 "nbformat": 4,
 "nbformat_minor": 5
}
